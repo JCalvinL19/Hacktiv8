{
 "cells": [
  {
   "cell_type": "markdown",
   "id": "c604b81f",
   "metadata": {},
   "source": [
    "### Nama: Jonathan Calvin Limawal\n",
    "### Kode Peserta: PYTN-KS16-019\n",
    "### Track: Data Science"
   ]
  },
  {
   "cell_type": "markdown",
   "id": "54236244",
   "metadata": {},
   "source": [
    "## Libraries"
   ]
  },
  {
   "cell_type": "code",
   "execution_count": 36,
   "id": "9569bdd6",
   "metadata": {},
   "outputs": [],
   "source": [
    "import numpy as np\n",
    "import pandas as pd\n",
    "import matplotlib.pyplot as plt\n",
    "import seaborn as sns\n",
    "\n",
    "from scipy import stats\n",
    "\n",
    "%matplotlib inline"
   ]
  },
  {
   "cell_type": "markdown",
   "id": "aca1b9a7",
   "metadata": {},
   "source": [
    "## Dataset"
   ]
  },
  {
   "cell_type": "code",
   "execution_count": 2,
   "id": "5d644f3a",
   "metadata": {},
   "outputs": [
    {
     "data": {
      "text/html": [
       "<div>\n",
       "<style scoped>\n",
       "    .dataframe tbody tr th:only-of-type {\n",
       "        vertical-align: middle;\n",
       "    }\n",
       "\n",
       "    .dataframe tbody tr th {\n",
       "        vertical-align: top;\n",
       "    }\n",
       "\n",
       "    .dataframe thead th {\n",
       "        text-align: right;\n",
       "    }\n",
       "</style>\n",
       "<table border=\"1\" class=\"dataframe\">\n",
       "  <thead>\n",
       "    <tr style=\"text-align: right;\">\n",
       "      <th></th>\n",
       "      <th>Unnamed: 0</th>\n",
       "      <th>BOROUGH</th>\n",
       "      <th>NEIGHBORHOOD</th>\n",
       "      <th>BUILDING CLASS CATEGORY</th>\n",
       "      <th>TAX CLASS AT PRESENT</th>\n",
       "      <th>BLOCK</th>\n",
       "      <th>LOT</th>\n",
       "      <th>EASE-MENT</th>\n",
       "      <th>BUILDING CLASS AT PRESENT</th>\n",
       "      <th>ADDRESS</th>\n",
       "      <th>...</th>\n",
       "      <th>RESIDENTIAL UNITS</th>\n",
       "      <th>COMMERCIAL UNITS</th>\n",
       "      <th>TOTAL UNITS</th>\n",
       "      <th>LAND SQUARE FEET</th>\n",
       "      <th>GROSS SQUARE FEET</th>\n",
       "      <th>YEAR BUILT</th>\n",
       "      <th>TAX CLASS AT TIME OF SALE</th>\n",
       "      <th>BUILDING CLASS AT TIME OF SALE</th>\n",
       "      <th>SALE PRICE</th>\n",
       "      <th>SALE DATE</th>\n",
       "    </tr>\n",
       "  </thead>\n",
       "  <tbody>\n",
       "    <tr>\n",
       "      <th>0</th>\n",
       "      <td>4</td>\n",
       "      <td>1</td>\n",
       "      <td>ALPHABET CITY</td>\n",
       "      <td>07 RENTALS - WALKUP APARTMENTS</td>\n",
       "      <td>2A</td>\n",
       "      <td>392</td>\n",
       "      <td>6</td>\n",
       "      <td></td>\n",
       "      <td>C2</td>\n",
       "      <td>153 AVENUE B</td>\n",
       "      <td>...</td>\n",
       "      <td>5</td>\n",
       "      <td>0</td>\n",
       "      <td>5</td>\n",
       "      <td>1633</td>\n",
       "      <td>6440</td>\n",
       "      <td>1900</td>\n",
       "      <td>2</td>\n",
       "      <td>C2</td>\n",
       "      <td>6625000</td>\n",
       "      <td>2017-07-19 00:00:00</td>\n",
       "    </tr>\n",
       "    <tr>\n",
       "      <th>1</th>\n",
       "      <td>5</td>\n",
       "      <td>1</td>\n",
       "      <td>ALPHABET CITY</td>\n",
       "      <td>07 RENTALS - WALKUP APARTMENTS</td>\n",
       "      <td>2</td>\n",
       "      <td>399</td>\n",
       "      <td>26</td>\n",
       "      <td></td>\n",
       "      <td>C7</td>\n",
       "      <td>234 EAST 4TH   STREET</td>\n",
       "      <td>...</td>\n",
       "      <td>28</td>\n",
       "      <td>3</td>\n",
       "      <td>31</td>\n",
       "      <td>4616</td>\n",
       "      <td>18690</td>\n",
       "      <td>1900</td>\n",
       "      <td>2</td>\n",
       "      <td>C7</td>\n",
       "      <td>-</td>\n",
       "      <td>2016-12-14 00:00:00</td>\n",
       "    </tr>\n",
       "    <tr>\n",
       "      <th>2</th>\n",
       "      <td>6</td>\n",
       "      <td>1</td>\n",
       "      <td>ALPHABET CITY</td>\n",
       "      <td>07 RENTALS - WALKUP APARTMENTS</td>\n",
       "      <td>2</td>\n",
       "      <td>399</td>\n",
       "      <td>39</td>\n",
       "      <td></td>\n",
       "      <td>C7</td>\n",
       "      <td>197 EAST 3RD   STREET</td>\n",
       "      <td>...</td>\n",
       "      <td>16</td>\n",
       "      <td>1</td>\n",
       "      <td>17</td>\n",
       "      <td>2212</td>\n",
       "      <td>7803</td>\n",
       "      <td>1900</td>\n",
       "      <td>2</td>\n",
       "      <td>C7</td>\n",
       "      <td>-</td>\n",
       "      <td>2016-12-09 00:00:00</td>\n",
       "    </tr>\n",
       "    <tr>\n",
       "      <th>3</th>\n",
       "      <td>7</td>\n",
       "      <td>1</td>\n",
       "      <td>ALPHABET CITY</td>\n",
       "      <td>07 RENTALS - WALKUP APARTMENTS</td>\n",
       "      <td>2B</td>\n",
       "      <td>402</td>\n",
       "      <td>21</td>\n",
       "      <td></td>\n",
       "      <td>C4</td>\n",
       "      <td>154 EAST 7TH STREET</td>\n",
       "      <td>...</td>\n",
       "      <td>10</td>\n",
       "      <td>0</td>\n",
       "      <td>10</td>\n",
       "      <td>2272</td>\n",
       "      <td>6794</td>\n",
       "      <td>1913</td>\n",
       "      <td>2</td>\n",
       "      <td>C4</td>\n",
       "      <td>3936272</td>\n",
       "      <td>2016-09-23 00:00:00</td>\n",
       "    </tr>\n",
       "    <tr>\n",
       "      <th>4</th>\n",
       "      <td>8</td>\n",
       "      <td>1</td>\n",
       "      <td>ALPHABET CITY</td>\n",
       "      <td>07 RENTALS - WALKUP APARTMENTS</td>\n",
       "      <td>2A</td>\n",
       "      <td>404</td>\n",
       "      <td>55</td>\n",
       "      <td></td>\n",
       "      <td>C2</td>\n",
       "      <td>301 EAST 10TH   STREET</td>\n",
       "      <td>...</td>\n",
       "      <td>6</td>\n",
       "      <td>0</td>\n",
       "      <td>6</td>\n",
       "      <td>2369</td>\n",
       "      <td>4615</td>\n",
       "      <td>1900</td>\n",
       "      <td>2</td>\n",
       "      <td>C2</td>\n",
       "      <td>8000000</td>\n",
       "      <td>2016-11-17 00:00:00</td>\n",
       "    </tr>\n",
       "  </tbody>\n",
       "</table>\n",
       "<p>5 rows × 22 columns</p>\n",
       "</div>"
      ],
      "text/plain": [
       "   Unnamed: 0  BOROUGH   NEIGHBORHOOD  \\\n",
       "0           4        1  ALPHABET CITY   \n",
       "1           5        1  ALPHABET CITY   \n",
       "2           6        1  ALPHABET CITY   \n",
       "3           7        1  ALPHABET CITY   \n",
       "4           8        1  ALPHABET CITY   \n",
       "\n",
       "                       BUILDING CLASS CATEGORY TAX CLASS AT PRESENT  BLOCK  \\\n",
       "0  07 RENTALS - WALKUP APARTMENTS                                2A    392   \n",
       "1  07 RENTALS - WALKUP APARTMENTS                                 2    399   \n",
       "2  07 RENTALS - WALKUP APARTMENTS                                 2    399   \n",
       "3  07 RENTALS - WALKUP APARTMENTS                                2B    402   \n",
       "4  07 RENTALS - WALKUP APARTMENTS                                2A    404   \n",
       "\n",
       "   LOT EASE-MENT BUILDING CLASS AT PRESENT                 ADDRESS  ...  \\\n",
       "0    6                                  C2            153 AVENUE B  ...   \n",
       "1   26                                  C7   234 EAST 4TH   STREET  ...   \n",
       "2   39                                  C7   197 EAST 3RD   STREET  ...   \n",
       "3   21                                  C4     154 EAST 7TH STREET  ...   \n",
       "4   55                                  C2  301 EAST 10TH   STREET  ...   \n",
       "\n",
       "  RESIDENTIAL UNITS  COMMERCIAL UNITS  TOTAL UNITS  LAND SQUARE FEET  \\\n",
       "0                 5                 0            5              1633   \n",
       "1                28                 3           31              4616   \n",
       "2                16                 1           17              2212   \n",
       "3                10                 0           10              2272   \n",
       "4                 6                 0            6              2369   \n",
       "\n",
       "   GROSS SQUARE FEET YEAR BUILT TAX CLASS AT TIME OF SALE  \\\n",
       "0               6440       1900                         2   \n",
       "1              18690       1900                         2   \n",
       "2               7803       1900                         2   \n",
       "3               6794       1913                         2   \n",
       "4               4615       1900                         2   \n",
       "\n",
       "   BUILDING CLASS AT TIME OF SALE  SALE PRICE            SALE DATE  \n",
       "0                              C2     6625000  2017-07-19 00:00:00  \n",
       "1                              C7         -    2016-12-14 00:00:00  \n",
       "2                              C7         -    2016-12-09 00:00:00  \n",
       "3                              C4     3936272  2016-09-23 00:00:00  \n",
       "4                              C2     8000000  2016-11-17 00:00:00  \n",
       "\n",
       "[5 rows x 22 columns]"
      ]
     },
     "execution_count": 2,
     "metadata": {},
     "output_type": "execute_result"
    }
   ],
   "source": [
    "data = pd.read_csv(\"nyc-rolling-sales.csv\")\n",
    "data.head()"
   ]
  },
  {
   "cell_type": "code",
   "execution_count": 3,
   "id": "a19c7a47",
   "metadata": {},
   "outputs": [
    {
     "name": "stdout",
     "output_type": "stream",
     "text": [
      "<class 'pandas.core.frame.DataFrame'>\n",
      "RangeIndex: 84548 entries, 0 to 84547\n",
      "Data columns (total 22 columns):\n",
      " #   Column                          Non-Null Count  Dtype \n",
      "---  ------                          --------------  ----- \n",
      " 0   Unnamed: 0                      84548 non-null  int64 \n",
      " 1   BOROUGH                         84548 non-null  int64 \n",
      " 2   NEIGHBORHOOD                    84548 non-null  object\n",
      " 3   BUILDING CLASS CATEGORY         84548 non-null  object\n",
      " 4   TAX CLASS AT PRESENT            84548 non-null  object\n",
      " 5   BLOCK                           84548 non-null  int64 \n",
      " 6   LOT                             84548 non-null  int64 \n",
      " 7   EASE-MENT                       84548 non-null  object\n",
      " 8   BUILDING CLASS AT PRESENT       84548 non-null  object\n",
      " 9   ADDRESS                         84548 non-null  object\n",
      " 10  APARTMENT NUMBER                84548 non-null  object\n",
      " 11  ZIP CODE                        84548 non-null  int64 \n",
      " 12  RESIDENTIAL UNITS               84548 non-null  int64 \n",
      " 13  COMMERCIAL UNITS                84548 non-null  int64 \n",
      " 14  TOTAL UNITS                     84548 non-null  int64 \n",
      " 15  LAND SQUARE FEET                84548 non-null  object\n",
      " 16  GROSS SQUARE FEET               84548 non-null  object\n",
      " 17  YEAR BUILT                      84548 non-null  int64 \n",
      " 18  TAX CLASS AT TIME OF SALE       84548 non-null  int64 \n",
      " 19  BUILDING CLASS AT TIME OF SALE  84548 non-null  object\n",
      " 20  SALE PRICE                      84548 non-null  object\n",
      " 21  SALE DATE                       84548 non-null  object\n",
      "dtypes: int64(10), object(12)\n",
      "memory usage: 14.2+ MB\n"
     ]
    }
   ],
   "source": [
    "data.info()"
   ]
  },
  {
   "cell_type": "markdown",
   "id": "589b9f3b",
   "metadata": {},
   "source": [
    "## Data Preprocessing"
   ]
  },
  {
   "cell_type": "markdown",
   "id": "de429ec6",
   "metadata": {},
   "source": [
    "### Dropping Unrelated/Unused Columns"
   ]
  },
  {
   "cell_type": "code",
   "execution_count": 4,
   "id": "9b237716",
   "metadata": {},
   "outputs": [
    {
     "name": "stdout",
     "output_type": "stream",
     "text": [
      "<class 'pandas.core.frame.DataFrame'>\n",
      "RangeIndex: 84548 entries, 0 to 84547\n",
      "Data columns (total 16 columns):\n",
      " #   Column                          Non-Null Count  Dtype \n",
      "---  ------                          --------------  ----- \n",
      " 0   BOROUGH                         84548 non-null  int64 \n",
      " 1   NEIGHBORHOOD                    84548 non-null  object\n",
      " 2   BUILDING CLASS CATEGORY         84548 non-null  object\n",
      " 3   TAX CLASS AT PRESENT            84548 non-null  object\n",
      " 4   BLOCK                           84548 non-null  int64 \n",
      " 5   BUILDING CLASS AT PRESENT       84548 non-null  object\n",
      " 6   RESIDENTIAL UNITS               84548 non-null  int64 \n",
      " 7   COMMERCIAL UNITS                84548 non-null  int64 \n",
      " 8   TOTAL UNITS                     84548 non-null  int64 \n",
      " 9   LAND SQUARE FEET                84548 non-null  object\n",
      " 10  GROSS SQUARE FEET               84548 non-null  object\n",
      " 11  YEAR BUILT                      84548 non-null  int64 \n",
      " 12  TAX CLASS AT TIME OF SALE       84548 non-null  int64 \n",
      " 13  BUILDING CLASS AT TIME OF SALE  84548 non-null  object\n",
      " 14  SALE PRICE                      84548 non-null  object\n",
      " 15  SALE DATE                       84548 non-null  object\n",
      "dtypes: int64(7), object(9)\n",
      "memory usage: 10.3+ MB\n"
     ]
    }
   ],
   "source": [
    "cleaned_data = data.drop(['Unnamed: 0', 'ZIP CODE', 'EASE-MENT', \n",
    "                         'APARTMENT NUMBER', 'ADDRESS', 'LOT'], axis=1)\n",
    "cleaned_data.info()"
   ]
  },
  {
   "cell_type": "markdown",
   "id": "e7a1fe18",
   "metadata": {},
   "source": [
    "### Removing Duplicate Data"
   ]
  },
  {
   "cell_type": "code",
   "execution_count": 5,
   "id": "1bdcd656",
   "metadata": {},
   "outputs": [
    {
     "data": {
      "text/plain": [
       "2751"
      ]
     },
     "execution_count": 5,
     "metadata": {},
     "output_type": "execute_result"
    }
   ],
   "source": [
    "total_of_duplicate_data = sum(cleaned_data.duplicated())\n",
    "total_of_duplicate_data"
   ]
  },
  {
   "cell_type": "code",
   "execution_count": 6,
   "id": "990fb9fc",
   "metadata": {},
   "outputs": [
    {
     "data": {
      "text/plain": [
       "0"
      ]
     },
     "execution_count": 6,
     "metadata": {},
     "output_type": "execute_result"
    }
   ],
   "source": [
    "cleaned_data = cleaned_data.drop_duplicates()\n",
    "sum(cleaned_data.duplicated())"
   ]
  },
  {
   "cell_type": "markdown",
   "id": "71a99943",
   "metadata": {},
   "source": [
    "### Checking and Imputing Missing Values"
   ]
  },
  {
   "cell_type": "code",
   "execution_count": 7,
   "id": "eac19986",
   "metadata": {},
   "outputs": [
    {
     "data": {
      "text/html": [
       "<div>\n",
       "<style scoped>\n",
       "    .dataframe tbody tr th:only-of-type {\n",
       "        vertical-align: middle;\n",
       "    }\n",
       "\n",
       "    .dataframe tbody tr th {\n",
       "        vertical-align: top;\n",
       "    }\n",
       "\n",
       "    .dataframe thead th {\n",
       "        text-align: right;\n",
       "    }\n",
       "</style>\n",
       "<table border=\"1\" class=\"dataframe\">\n",
       "  <thead>\n",
       "    <tr style=\"text-align: right;\">\n",
       "      <th></th>\n",
       "      <th>BOROUGH</th>\n",
       "      <th>NEIGHBORHOOD</th>\n",
       "      <th>BUILDING CLASS CATEGORY</th>\n",
       "      <th>TAX CLASS AT PRESENT</th>\n",
       "      <th>BLOCK</th>\n",
       "      <th>BUILDING CLASS AT PRESENT</th>\n",
       "      <th>RESIDENTIAL UNITS</th>\n",
       "      <th>COMMERCIAL UNITS</th>\n",
       "      <th>TOTAL UNITS</th>\n",
       "      <th>LAND SQUARE FEET</th>\n",
       "      <th>GROSS SQUARE FEET</th>\n",
       "      <th>YEAR BUILT</th>\n",
       "      <th>TAX CLASS AT TIME OF SALE</th>\n",
       "      <th>BUILDING CLASS AT TIME OF SALE</th>\n",
       "      <th>SALE PRICE</th>\n",
       "      <th>SALE DATE</th>\n",
       "    </tr>\n",
       "  </thead>\n",
       "  <tbody>\n",
       "    <tr>\n",
       "      <th>0</th>\n",
       "      <td>1</td>\n",
       "      <td>ALPHABET CITY</td>\n",
       "      <td>07 RENTALS - WALKUP APARTMENTS</td>\n",
       "      <td>2A</td>\n",
       "      <td>392</td>\n",
       "      <td>C2</td>\n",
       "      <td>5</td>\n",
       "      <td>0</td>\n",
       "      <td>5</td>\n",
       "      <td>1633</td>\n",
       "      <td>6440</td>\n",
       "      <td>1900</td>\n",
       "      <td>2</td>\n",
       "      <td>C2</td>\n",
       "      <td>6625000</td>\n",
       "      <td>2017-07-19 00:00:00</td>\n",
       "    </tr>\n",
       "    <tr>\n",
       "      <th>1</th>\n",
       "      <td>1</td>\n",
       "      <td>ALPHABET CITY</td>\n",
       "      <td>07 RENTALS - WALKUP APARTMENTS</td>\n",
       "      <td>2</td>\n",
       "      <td>399</td>\n",
       "      <td>C7</td>\n",
       "      <td>28</td>\n",
       "      <td>3</td>\n",
       "      <td>31</td>\n",
       "      <td>4616</td>\n",
       "      <td>18690</td>\n",
       "      <td>1900</td>\n",
       "      <td>2</td>\n",
       "      <td>C7</td>\n",
       "      <td>0</td>\n",
       "      <td>2016-12-14 00:00:00</td>\n",
       "    </tr>\n",
       "    <tr>\n",
       "      <th>2</th>\n",
       "      <td>1</td>\n",
       "      <td>ALPHABET CITY</td>\n",
       "      <td>07 RENTALS - WALKUP APARTMENTS</td>\n",
       "      <td>2</td>\n",
       "      <td>399</td>\n",
       "      <td>C7</td>\n",
       "      <td>16</td>\n",
       "      <td>1</td>\n",
       "      <td>17</td>\n",
       "      <td>2212</td>\n",
       "      <td>7803</td>\n",
       "      <td>1900</td>\n",
       "      <td>2</td>\n",
       "      <td>C7</td>\n",
       "      <td>0</td>\n",
       "      <td>2016-12-09 00:00:00</td>\n",
       "    </tr>\n",
       "    <tr>\n",
       "      <th>3</th>\n",
       "      <td>1</td>\n",
       "      <td>ALPHABET CITY</td>\n",
       "      <td>07 RENTALS - WALKUP APARTMENTS</td>\n",
       "      <td>2B</td>\n",
       "      <td>402</td>\n",
       "      <td>C4</td>\n",
       "      <td>10</td>\n",
       "      <td>0</td>\n",
       "      <td>10</td>\n",
       "      <td>2272</td>\n",
       "      <td>6794</td>\n",
       "      <td>1913</td>\n",
       "      <td>2</td>\n",
       "      <td>C4</td>\n",
       "      <td>3936272</td>\n",
       "      <td>2016-09-23 00:00:00</td>\n",
       "    </tr>\n",
       "    <tr>\n",
       "      <th>4</th>\n",
       "      <td>1</td>\n",
       "      <td>ALPHABET CITY</td>\n",
       "      <td>07 RENTALS - WALKUP APARTMENTS</td>\n",
       "      <td>2A</td>\n",
       "      <td>404</td>\n",
       "      <td>C2</td>\n",
       "      <td>6</td>\n",
       "      <td>0</td>\n",
       "      <td>6</td>\n",
       "      <td>2369</td>\n",
       "      <td>4615</td>\n",
       "      <td>1900</td>\n",
       "      <td>2</td>\n",
       "      <td>C2</td>\n",
       "      <td>8000000</td>\n",
       "      <td>2016-11-17 00:00:00</td>\n",
       "    </tr>\n",
       "    <tr>\n",
       "      <th>...</th>\n",
       "      <td>...</td>\n",
       "      <td>...</td>\n",
       "      <td>...</td>\n",
       "      <td>...</td>\n",
       "      <td>...</td>\n",
       "      <td>...</td>\n",
       "      <td>...</td>\n",
       "      <td>...</td>\n",
       "      <td>...</td>\n",
       "      <td>...</td>\n",
       "      <td>...</td>\n",
       "      <td>...</td>\n",
       "      <td>...</td>\n",
       "      <td>...</td>\n",
       "      <td>...</td>\n",
       "      <td>...</td>\n",
       "    </tr>\n",
       "    <tr>\n",
       "      <th>84543</th>\n",
       "      <td>5</td>\n",
       "      <td>WOODROW</td>\n",
       "      <td>02 TWO FAMILY DWELLINGS</td>\n",
       "      <td>1</td>\n",
       "      <td>7349</td>\n",
       "      <td>B9</td>\n",
       "      <td>2</td>\n",
       "      <td>0</td>\n",
       "      <td>2</td>\n",
       "      <td>2400</td>\n",
       "      <td>2575</td>\n",
       "      <td>1998</td>\n",
       "      <td>1</td>\n",
       "      <td>B9</td>\n",
       "      <td>450000</td>\n",
       "      <td>2016-11-28 00:00:00</td>\n",
       "    </tr>\n",
       "    <tr>\n",
       "      <th>84544</th>\n",
       "      <td>5</td>\n",
       "      <td>WOODROW</td>\n",
       "      <td>02 TWO FAMILY DWELLINGS</td>\n",
       "      <td>1</td>\n",
       "      <td>7349</td>\n",
       "      <td>B9</td>\n",
       "      <td>2</td>\n",
       "      <td>0</td>\n",
       "      <td>2</td>\n",
       "      <td>2498</td>\n",
       "      <td>2377</td>\n",
       "      <td>1998</td>\n",
       "      <td>1</td>\n",
       "      <td>B9</td>\n",
       "      <td>550000</td>\n",
       "      <td>2017-04-21 00:00:00</td>\n",
       "    </tr>\n",
       "    <tr>\n",
       "      <th>84545</th>\n",
       "      <td>5</td>\n",
       "      <td>WOODROW</td>\n",
       "      <td>02 TWO FAMILY DWELLINGS</td>\n",
       "      <td>1</td>\n",
       "      <td>7351</td>\n",
       "      <td>B2</td>\n",
       "      <td>2</td>\n",
       "      <td>0</td>\n",
       "      <td>2</td>\n",
       "      <td>4000</td>\n",
       "      <td>1496</td>\n",
       "      <td>1925</td>\n",
       "      <td>1</td>\n",
       "      <td>B2</td>\n",
       "      <td>460000</td>\n",
       "      <td>2017-07-05 00:00:00</td>\n",
       "    </tr>\n",
       "    <tr>\n",
       "      <th>84546</th>\n",
       "      <td>5</td>\n",
       "      <td>WOODROW</td>\n",
       "      <td>22 STORE BUILDINGS</td>\n",
       "      <td>4</td>\n",
       "      <td>7100</td>\n",
       "      <td>K6</td>\n",
       "      <td>0</td>\n",
       "      <td>7</td>\n",
       "      <td>7</td>\n",
       "      <td>208033</td>\n",
       "      <td>64117</td>\n",
       "      <td>2001</td>\n",
       "      <td>4</td>\n",
       "      <td>K6</td>\n",
       "      <td>11693337</td>\n",
       "      <td>2016-12-21 00:00:00</td>\n",
       "    </tr>\n",
       "    <tr>\n",
       "      <th>84547</th>\n",
       "      <td>5</td>\n",
       "      <td>WOODROW</td>\n",
       "      <td>35 INDOOR PUBLIC AND CULTURAL FACILITIES</td>\n",
       "      <td>4</td>\n",
       "      <td>7105</td>\n",
       "      <td>P9</td>\n",
       "      <td>0</td>\n",
       "      <td>1</td>\n",
       "      <td>1</td>\n",
       "      <td>10796</td>\n",
       "      <td>2400</td>\n",
       "      <td>2006</td>\n",
       "      <td>4</td>\n",
       "      <td>P9</td>\n",
       "      <td>69300</td>\n",
       "      <td>2016-10-27 00:00:00</td>\n",
       "    </tr>\n",
       "  </tbody>\n",
       "</table>\n",
       "<p>81797 rows × 16 columns</p>\n",
       "</div>"
      ],
      "text/plain": [
       "       BOROUGH   NEIGHBORHOOD                      BUILDING CLASS CATEGORY  \\\n",
       "0            1  ALPHABET CITY  07 RENTALS - WALKUP APARTMENTS                \n",
       "1            1  ALPHABET CITY  07 RENTALS - WALKUP APARTMENTS                \n",
       "2            1  ALPHABET CITY  07 RENTALS - WALKUP APARTMENTS                \n",
       "3            1  ALPHABET CITY  07 RENTALS - WALKUP APARTMENTS                \n",
       "4            1  ALPHABET CITY  07 RENTALS - WALKUP APARTMENTS                \n",
       "...        ...            ...                                          ...   \n",
       "84543        5        WOODROW  02 TWO FAMILY DWELLINGS                       \n",
       "84544        5        WOODROW  02 TWO FAMILY DWELLINGS                       \n",
       "84545        5        WOODROW  02 TWO FAMILY DWELLINGS                       \n",
       "84546        5        WOODROW  22 STORE BUILDINGS                            \n",
       "84547        5        WOODROW  35 INDOOR PUBLIC AND CULTURAL FACILITIES      \n",
       "\n",
       "      TAX CLASS AT PRESENT  BLOCK BUILDING CLASS AT PRESENT  \\\n",
       "0                       2A    392                        C2   \n",
       "1                        2    399                        C7   \n",
       "2                        2    399                        C7   \n",
       "3                       2B    402                        C4   \n",
       "4                       2A    404                        C2   \n",
       "...                    ...    ...                       ...   \n",
       "84543                    1   7349                        B9   \n",
       "84544                    1   7349                        B9   \n",
       "84545                    1   7351                        B2   \n",
       "84546                    4   7100                        K6   \n",
       "84547                    4   7105                        P9   \n",
       "\n",
       "       RESIDENTIAL UNITS  COMMERCIAL UNITS  TOTAL UNITS LAND SQUARE FEET  \\\n",
       "0                      5                 0            5             1633   \n",
       "1                     28                 3           31             4616   \n",
       "2                     16                 1           17             2212   \n",
       "3                     10                 0           10             2272   \n",
       "4                      6                 0            6             2369   \n",
       "...                  ...               ...          ...              ...   \n",
       "84543                  2                 0            2             2400   \n",
       "84544                  2                 0            2             2498   \n",
       "84545                  2                 0            2             4000   \n",
       "84546                  0                 7            7           208033   \n",
       "84547                  0                 1            1            10796   \n",
       "\n",
       "      GROSS SQUARE FEET  YEAR BUILT  TAX CLASS AT TIME OF SALE  \\\n",
       "0                  6440        1900                          2   \n",
       "1                 18690        1900                          2   \n",
       "2                  7803        1900                          2   \n",
       "3                  6794        1913                          2   \n",
       "4                  4615        1900                          2   \n",
       "...                 ...         ...                        ...   \n",
       "84543              2575        1998                          1   \n",
       "84544              2377        1998                          1   \n",
       "84545              1496        1925                          1   \n",
       "84546             64117        2001                          4   \n",
       "84547              2400        2006                          4   \n",
       "\n",
       "      BUILDING CLASS AT TIME OF SALE SALE PRICE            SALE DATE  \n",
       "0                                 C2    6625000  2017-07-19 00:00:00  \n",
       "1                                 C7          0  2016-12-14 00:00:00  \n",
       "2                                 C7          0  2016-12-09 00:00:00  \n",
       "3                                 C4    3936272  2016-09-23 00:00:00  \n",
       "4                                 C2    8000000  2016-11-17 00:00:00  \n",
       "...                              ...        ...                  ...  \n",
       "84543                             B9     450000  2016-11-28 00:00:00  \n",
       "84544                             B9     550000  2017-04-21 00:00:00  \n",
       "84545                             B2     460000  2017-07-05 00:00:00  \n",
       "84546                             K6   11693337  2016-12-21 00:00:00  \n",
       "84547                             P9      69300  2016-10-27 00:00:00  \n",
       "\n",
       "[81797 rows x 16 columns]"
      ]
     },
     "execution_count": 7,
     "metadata": {},
     "output_type": "execute_result"
    }
   ],
   "source": [
    "cleaned_data.replace(' -  ', 0,  inplace=True)\n",
    "cleaned_data"
   ]
  },
  {
   "cell_type": "code",
   "execution_count": 8,
   "id": "4e0f13df",
   "metadata": {},
   "outputs": [
    {
     "data": {
      "text/plain": [
       "BOROUGH                           0\n",
       "NEIGHBORHOOD                      0\n",
       "BUILDING CLASS CATEGORY           0\n",
       "TAX CLASS AT PRESENT              0\n",
       "BLOCK                             0\n",
       "BUILDING CLASS AT PRESENT         0\n",
       "RESIDENTIAL UNITS                 0\n",
       "COMMERCIAL UNITS                  0\n",
       "TOTAL UNITS                       0\n",
       "LAND SQUARE FEET                  0\n",
       "GROSS SQUARE FEET                 0\n",
       "YEAR BUILT                        0\n",
       "TAX CLASS AT TIME OF SALE         0\n",
       "BUILDING CLASS AT TIME OF SALE    0\n",
       "SALE PRICE                        0\n",
       "SALE DATE                         0\n",
       "dtype: int64"
      ]
     },
     "execution_count": 8,
     "metadata": {},
     "output_type": "execute_result"
    }
   ],
   "source": [
    "cleaned_data.isna().sum()"
   ]
  },
  {
   "cell_type": "markdown",
   "id": "c0aee488",
   "metadata": {},
   "source": [
    "### Formatting Data"
   ]
  },
  {
   "cell_type": "code",
   "execution_count": 9,
   "id": "e2d000e8",
   "metadata": {},
   "outputs": [
    {
     "data": {
      "text/html": [
       "<div>\n",
       "<style scoped>\n",
       "    .dataframe tbody tr th:only-of-type {\n",
       "        vertical-align: middle;\n",
       "    }\n",
       "\n",
       "    .dataframe tbody tr th {\n",
       "        vertical-align: top;\n",
       "    }\n",
       "\n",
       "    .dataframe thead th {\n",
       "        text-align: right;\n",
       "    }\n",
       "</style>\n",
       "<table border=\"1\" class=\"dataframe\">\n",
       "  <thead>\n",
       "    <tr style=\"text-align: right;\">\n",
       "      <th></th>\n",
       "      <th>BOROUGH</th>\n",
       "      <th>NEIGHBORHOOD</th>\n",
       "      <th>BUILDING CLASS CATEGORY</th>\n",
       "      <th>TAX CLASS AT PRESENT</th>\n",
       "      <th>BLOCK</th>\n",
       "      <th>BUILDING CLASS AT PRESENT</th>\n",
       "      <th>RESIDENTIAL UNITS</th>\n",
       "      <th>COMMERCIAL UNITS</th>\n",
       "      <th>TOTAL UNITS</th>\n",
       "      <th>LAND SQUARE FEET</th>\n",
       "      <th>GROSS SQUARE FEET</th>\n",
       "      <th>YEAR BUILT</th>\n",
       "      <th>TAX CLASS AT TIME OF SALE</th>\n",
       "      <th>BUILDING CLASS AT TIME OF SALE</th>\n",
       "      <th>SALE PRICE</th>\n",
       "      <th>SALE DATE</th>\n",
       "      <th>BOROUGH NAME</th>\n",
       "    </tr>\n",
       "  </thead>\n",
       "  <tbody>\n",
       "    <tr>\n",
       "      <th>0</th>\n",
       "      <td>1</td>\n",
       "      <td>ALPHABET CITY</td>\n",
       "      <td>07 RENTALS - WALKUP APARTMENTS</td>\n",
       "      <td>2A</td>\n",
       "      <td>392</td>\n",
       "      <td>C2</td>\n",
       "      <td>5</td>\n",
       "      <td>0</td>\n",
       "      <td>5</td>\n",
       "      <td>1633</td>\n",
       "      <td>6440</td>\n",
       "      <td>1900</td>\n",
       "      <td>2</td>\n",
       "      <td>C2</td>\n",
       "      <td>6625000</td>\n",
       "      <td>2017-07-19 00:00:00</td>\n",
       "      <td>Manhattan</td>\n",
       "    </tr>\n",
       "    <tr>\n",
       "      <th>1</th>\n",
       "      <td>1</td>\n",
       "      <td>ALPHABET CITY</td>\n",
       "      <td>07 RENTALS - WALKUP APARTMENTS</td>\n",
       "      <td>2</td>\n",
       "      <td>399</td>\n",
       "      <td>C7</td>\n",
       "      <td>28</td>\n",
       "      <td>3</td>\n",
       "      <td>31</td>\n",
       "      <td>4616</td>\n",
       "      <td>18690</td>\n",
       "      <td>1900</td>\n",
       "      <td>2</td>\n",
       "      <td>C7</td>\n",
       "      <td>0</td>\n",
       "      <td>2016-12-14 00:00:00</td>\n",
       "      <td>Manhattan</td>\n",
       "    </tr>\n",
       "    <tr>\n",
       "      <th>2</th>\n",
       "      <td>1</td>\n",
       "      <td>ALPHABET CITY</td>\n",
       "      <td>07 RENTALS - WALKUP APARTMENTS</td>\n",
       "      <td>2</td>\n",
       "      <td>399</td>\n",
       "      <td>C7</td>\n",
       "      <td>16</td>\n",
       "      <td>1</td>\n",
       "      <td>17</td>\n",
       "      <td>2212</td>\n",
       "      <td>7803</td>\n",
       "      <td>1900</td>\n",
       "      <td>2</td>\n",
       "      <td>C7</td>\n",
       "      <td>0</td>\n",
       "      <td>2016-12-09 00:00:00</td>\n",
       "      <td>Manhattan</td>\n",
       "    </tr>\n",
       "    <tr>\n",
       "      <th>3</th>\n",
       "      <td>1</td>\n",
       "      <td>ALPHABET CITY</td>\n",
       "      <td>07 RENTALS - WALKUP APARTMENTS</td>\n",
       "      <td>2B</td>\n",
       "      <td>402</td>\n",
       "      <td>C4</td>\n",
       "      <td>10</td>\n",
       "      <td>0</td>\n",
       "      <td>10</td>\n",
       "      <td>2272</td>\n",
       "      <td>6794</td>\n",
       "      <td>1913</td>\n",
       "      <td>2</td>\n",
       "      <td>C4</td>\n",
       "      <td>3936272</td>\n",
       "      <td>2016-09-23 00:00:00</td>\n",
       "      <td>Manhattan</td>\n",
       "    </tr>\n",
       "    <tr>\n",
       "      <th>4</th>\n",
       "      <td>1</td>\n",
       "      <td>ALPHABET CITY</td>\n",
       "      <td>07 RENTALS - WALKUP APARTMENTS</td>\n",
       "      <td>2A</td>\n",
       "      <td>404</td>\n",
       "      <td>C2</td>\n",
       "      <td>6</td>\n",
       "      <td>0</td>\n",
       "      <td>6</td>\n",
       "      <td>2369</td>\n",
       "      <td>4615</td>\n",
       "      <td>1900</td>\n",
       "      <td>2</td>\n",
       "      <td>C2</td>\n",
       "      <td>8000000</td>\n",
       "      <td>2016-11-17 00:00:00</td>\n",
       "      <td>Manhattan</td>\n",
       "    </tr>\n",
       "  </tbody>\n",
       "</table>\n",
       "</div>"
      ],
      "text/plain": [
       "   BOROUGH   NEIGHBORHOOD                      BUILDING CLASS CATEGORY  \\\n",
       "0        1  ALPHABET CITY  07 RENTALS - WALKUP APARTMENTS                \n",
       "1        1  ALPHABET CITY  07 RENTALS - WALKUP APARTMENTS                \n",
       "2        1  ALPHABET CITY  07 RENTALS - WALKUP APARTMENTS                \n",
       "3        1  ALPHABET CITY  07 RENTALS - WALKUP APARTMENTS                \n",
       "4        1  ALPHABET CITY  07 RENTALS - WALKUP APARTMENTS                \n",
       "\n",
       "  TAX CLASS AT PRESENT  BLOCK BUILDING CLASS AT PRESENT  RESIDENTIAL UNITS  \\\n",
       "0                   2A    392                        C2                  5   \n",
       "1                    2    399                        C7                 28   \n",
       "2                    2    399                        C7                 16   \n",
       "3                   2B    402                        C4                 10   \n",
       "4                   2A    404                        C2                  6   \n",
       "\n",
       "   COMMERCIAL UNITS  TOTAL UNITS LAND SQUARE FEET GROSS SQUARE FEET  \\\n",
       "0                 0            5             1633              6440   \n",
       "1                 3           31             4616             18690   \n",
       "2                 1           17             2212              7803   \n",
       "3                 0           10             2272              6794   \n",
       "4                 0            6             2369              4615   \n",
       "\n",
       "   YEAR BUILT  TAX CLASS AT TIME OF SALE BUILDING CLASS AT TIME OF SALE  \\\n",
       "0        1900                          2                             C2   \n",
       "1        1900                          2                             C7   \n",
       "2        1900                          2                             C7   \n",
       "3        1913                          2                             C4   \n",
       "4        1900                          2                             C2   \n",
       "\n",
       "  SALE PRICE            SALE DATE BOROUGH NAME  \n",
       "0    6625000  2017-07-19 00:00:00    Manhattan  \n",
       "1          0  2016-12-14 00:00:00    Manhattan  \n",
       "2          0  2016-12-09 00:00:00    Manhattan  \n",
       "3    3936272  2016-09-23 00:00:00    Manhattan  \n",
       "4    8000000  2016-11-17 00:00:00    Manhattan  "
      ]
     },
     "execution_count": 9,
     "metadata": {},
     "output_type": "execute_result"
    }
   ],
   "source": [
    "cleaned_data['BOROUGH NAME'] = cleaned_data['BOROUGH'].replace({1: 'Manhattan',\n",
    "                                                                2: 'Bronx',\n",
    "                                                                3: 'Brooklyn',\n",
    "                                                                4: 'Queens',\n",
    "                                                                5: 'Staten Island'})\n",
    "cleaned_data.head()"
   ]
  },
  {
   "cell_type": "code",
   "execution_count": 10,
   "id": "cadb411b",
   "metadata": {},
   "outputs": [],
   "source": [
    "cleaned_data['SALE PRICE'] = cleaned_data['SALE PRICE'].astype('int64')\n",
    "cleaned_data['LAND SQUARE FEET'] = cleaned_data['LAND SQUARE FEET'].astype('int64')\n",
    "cleaned_data['GROSS SQUARE FEET'] = cleaned_data['GROSS SQUARE FEET'].astype('int64')"
   ]
  },
  {
   "cell_type": "code",
   "execution_count": 11,
   "id": "4ff77076",
   "metadata": {},
   "outputs": [
    {
     "data": {
      "text/plain": [
       "array(['Manhattan', 'Bronx', 'Brooklyn', 'Queens', 'Staten Island'],\n",
       "      dtype=object)"
      ]
     },
     "execution_count": 11,
     "metadata": {},
     "output_type": "execute_result"
    }
   ],
   "source": [
    "cleaned_data['BOROUGH NAME'].unique()"
   ]
  },
  {
   "cell_type": "code",
   "execution_count": 12,
   "id": "88b80de7",
   "metadata": {},
   "outputs": [
    {
     "data": {
      "text/html": [
       "<div>\n",
       "<style scoped>\n",
       "    .dataframe tbody tr th:only-of-type {\n",
       "        vertical-align: middle;\n",
       "    }\n",
       "\n",
       "    .dataframe tbody tr th {\n",
       "        vertical-align: top;\n",
       "    }\n",
       "\n",
       "    .dataframe thead th {\n",
       "        text-align: right;\n",
       "    }\n",
       "</style>\n",
       "<table border=\"1\" class=\"dataframe\">\n",
       "  <thead>\n",
       "    <tr style=\"text-align: right;\">\n",
       "      <th></th>\n",
       "      <th>BOROUGH</th>\n",
       "      <th>NEIGHBORHOOD</th>\n",
       "      <th>BUILDING CLASS CATEGORY</th>\n",
       "      <th>TAX CLASS AT PRESENT</th>\n",
       "      <th>BLOCK</th>\n",
       "      <th>BUILDING CLASS AT PRESENT</th>\n",
       "      <th>RESIDENTIAL UNITS</th>\n",
       "      <th>COMMERCIAL UNITS</th>\n",
       "      <th>TOTAL UNITS</th>\n",
       "      <th>LAND SQUARE FEET</th>\n",
       "      <th>GROSS SQUARE FEET</th>\n",
       "      <th>YEAR BUILT</th>\n",
       "      <th>TAX CLASS AT TIME OF SALE</th>\n",
       "      <th>BUILDING CLASS AT TIME OF SALE</th>\n",
       "      <th>SALE PRICE</th>\n",
       "      <th>SALE DATE</th>\n",
       "      <th>BOROUGH NAME</th>\n",
       "      <th>SALE YEAR</th>\n",
       "      <th>SALE MONTH</th>\n",
       "    </tr>\n",
       "  </thead>\n",
       "  <tbody>\n",
       "    <tr>\n",
       "      <th>0</th>\n",
       "      <td>1</td>\n",
       "      <td>ALPHABET CITY</td>\n",
       "      <td>07 RENTALS - WALKUP APARTMENTS</td>\n",
       "      <td>2A</td>\n",
       "      <td>392</td>\n",
       "      <td>C2</td>\n",
       "      <td>5</td>\n",
       "      <td>0</td>\n",
       "      <td>5</td>\n",
       "      <td>1633</td>\n",
       "      <td>6440</td>\n",
       "      <td>1900</td>\n",
       "      <td>2</td>\n",
       "      <td>C2</td>\n",
       "      <td>6625000</td>\n",
       "      <td>2017-07-19</td>\n",
       "      <td>Manhattan</td>\n",
       "      <td>2017</td>\n",
       "      <td>7</td>\n",
       "    </tr>\n",
       "    <tr>\n",
       "      <th>1</th>\n",
       "      <td>1</td>\n",
       "      <td>ALPHABET CITY</td>\n",
       "      <td>07 RENTALS - WALKUP APARTMENTS</td>\n",
       "      <td>2</td>\n",
       "      <td>399</td>\n",
       "      <td>C7</td>\n",
       "      <td>28</td>\n",
       "      <td>3</td>\n",
       "      <td>31</td>\n",
       "      <td>4616</td>\n",
       "      <td>18690</td>\n",
       "      <td>1900</td>\n",
       "      <td>2</td>\n",
       "      <td>C7</td>\n",
       "      <td>0</td>\n",
       "      <td>2016-12-14</td>\n",
       "      <td>Manhattan</td>\n",
       "      <td>2016</td>\n",
       "      <td>12</td>\n",
       "    </tr>\n",
       "    <tr>\n",
       "      <th>2</th>\n",
       "      <td>1</td>\n",
       "      <td>ALPHABET CITY</td>\n",
       "      <td>07 RENTALS - WALKUP APARTMENTS</td>\n",
       "      <td>2</td>\n",
       "      <td>399</td>\n",
       "      <td>C7</td>\n",
       "      <td>16</td>\n",
       "      <td>1</td>\n",
       "      <td>17</td>\n",
       "      <td>2212</td>\n",
       "      <td>7803</td>\n",
       "      <td>1900</td>\n",
       "      <td>2</td>\n",
       "      <td>C7</td>\n",
       "      <td>0</td>\n",
       "      <td>2016-12-09</td>\n",
       "      <td>Manhattan</td>\n",
       "      <td>2016</td>\n",
       "      <td>12</td>\n",
       "    </tr>\n",
       "    <tr>\n",
       "      <th>3</th>\n",
       "      <td>1</td>\n",
       "      <td>ALPHABET CITY</td>\n",
       "      <td>07 RENTALS - WALKUP APARTMENTS</td>\n",
       "      <td>2B</td>\n",
       "      <td>402</td>\n",
       "      <td>C4</td>\n",
       "      <td>10</td>\n",
       "      <td>0</td>\n",
       "      <td>10</td>\n",
       "      <td>2272</td>\n",
       "      <td>6794</td>\n",
       "      <td>1913</td>\n",
       "      <td>2</td>\n",
       "      <td>C4</td>\n",
       "      <td>3936272</td>\n",
       "      <td>2016-09-23</td>\n",
       "      <td>Manhattan</td>\n",
       "      <td>2016</td>\n",
       "      <td>9</td>\n",
       "    </tr>\n",
       "    <tr>\n",
       "      <th>4</th>\n",
       "      <td>1</td>\n",
       "      <td>ALPHABET CITY</td>\n",
       "      <td>07 RENTALS - WALKUP APARTMENTS</td>\n",
       "      <td>2A</td>\n",
       "      <td>404</td>\n",
       "      <td>C2</td>\n",
       "      <td>6</td>\n",
       "      <td>0</td>\n",
       "      <td>6</td>\n",
       "      <td>2369</td>\n",
       "      <td>4615</td>\n",
       "      <td>1900</td>\n",
       "      <td>2</td>\n",
       "      <td>C2</td>\n",
       "      <td>8000000</td>\n",
       "      <td>2016-11-17</td>\n",
       "      <td>Manhattan</td>\n",
       "      <td>2016</td>\n",
       "      <td>11</td>\n",
       "    </tr>\n",
       "  </tbody>\n",
       "</table>\n",
       "</div>"
      ],
      "text/plain": [
       "   BOROUGH   NEIGHBORHOOD                      BUILDING CLASS CATEGORY  \\\n",
       "0        1  ALPHABET CITY  07 RENTALS - WALKUP APARTMENTS                \n",
       "1        1  ALPHABET CITY  07 RENTALS - WALKUP APARTMENTS                \n",
       "2        1  ALPHABET CITY  07 RENTALS - WALKUP APARTMENTS                \n",
       "3        1  ALPHABET CITY  07 RENTALS - WALKUP APARTMENTS                \n",
       "4        1  ALPHABET CITY  07 RENTALS - WALKUP APARTMENTS                \n",
       "\n",
       "  TAX CLASS AT PRESENT  BLOCK BUILDING CLASS AT PRESENT  RESIDENTIAL UNITS  \\\n",
       "0                   2A    392                        C2                  5   \n",
       "1                    2    399                        C7                 28   \n",
       "2                    2    399                        C7                 16   \n",
       "3                   2B    402                        C4                 10   \n",
       "4                   2A    404                        C2                  6   \n",
       "\n",
       "   COMMERCIAL UNITS  TOTAL UNITS  LAND SQUARE FEET  GROSS SQUARE FEET  \\\n",
       "0                 0            5              1633               6440   \n",
       "1                 3           31              4616              18690   \n",
       "2                 1           17              2212               7803   \n",
       "3                 0           10              2272               6794   \n",
       "4                 0            6              2369               4615   \n",
       "\n",
       "   YEAR BUILT  TAX CLASS AT TIME OF SALE BUILDING CLASS AT TIME OF SALE  \\\n",
       "0        1900                          2                             C2   \n",
       "1        1900                          2                             C7   \n",
       "2        1900                          2                             C7   \n",
       "3        1913                          2                             C4   \n",
       "4        1900                          2                             C2   \n",
       "\n",
       "   SALE PRICE  SALE DATE BOROUGH NAME  SALE YEAR  SALE MONTH  \n",
       "0     6625000 2017-07-19    Manhattan       2017           7  \n",
       "1           0 2016-12-14    Manhattan       2016          12  \n",
       "2           0 2016-12-09    Manhattan       2016          12  \n",
       "3     3936272 2016-09-23    Manhattan       2016           9  \n",
       "4     8000000 2016-11-17    Manhattan       2016          11  "
      ]
     },
     "execution_count": 12,
     "metadata": {},
     "output_type": "execute_result"
    }
   ],
   "source": [
    "cleaned_data['SALE DATE'] = pd.to_datetime(cleaned_data['SALE DATE'])\n",
    "\n",
    "cleaned_data['SALE YEAR'] = cleaned_data['SALE DATE'].dt.year\n",
    "cleaned_data['SALE MONTH'] = cleaned_data['SALE DATE'].dt.month\n",
    "cleaned_data.head()"
   ]
  },
  {
   "cell_type": "code",
   "execution_count": 13,
   "id": "ec035d36",
   "metadata": {},
   "outputs": [
    {
     "data": {
      "text/plain": [
       "array([1900, 1913, 1920, 1910, 2009, 1925, 1902, 1928, 1930, 1935, 1937,\n",
       "       1915, 1950, 1929, 1901, 1940, 2005,    0, 1989, 2014, 2008, 1965,\n",
       "       2013, 2003, 2006, 2007, 1951, 1899, 1850, 1905, 1864, 1917, 1911,\n",
       "       1983, 1926, 1963, 1960, 1889, 1898, 1939, 1938, 1927, 1909, 1958,\n",
       "       1904, 1907, 1987, 1931, 1984, 1948, 2004, 1918, 1875, 2012, 1973,\n",
       "       2011, 1922, 2001, 1932, 1980, 1908, 1953, 1906, 2015, 1946, 1921,\n",
       "       2010, 1954, 1111, 1924, 1990, 1890, 1991, 1988, 1895, 2016, 1957,\n",
       "       1986, 1966, 1998, 1870, 1923, 1969, 2017, 1968, 1934, 1956, 1982,\n",
       "       1914, 1903, 1967, 1840, 1912, 1964, 1955, 1961, 1851, 2000, 1959,\n",
       "       1962, 1945, 1972, 1976, 1916, 1880, 1970, 1846, 1941, 1952, 1896,\n",
       "       1985, 1981, 1888, 1947, 1975, 1974, 2002, 1994, 1892, 1894, 1891,\n",
       "       1996, 1997, 1949, 1999, 1800, 1979, 1971, 1977, 1942, 1978, 1826,\n",
       "       1881, 1919, 1883, 1936, 1993, 1995, 1933, 1992, 1943, 1944, 1847,\n",
       "       1829, 1844, 1835, 1852, 1856, 1854, 1832, 1845, 1849, 1855, 1871,\n",
       "       1893, 1865, 1882, 1680], dtype=int64)"
      ]
     },
     "execution_count": 13,
     "metadata": {},
     "output_type": "execute_result"
    }
   ],
   "source": [
    "cleaned_data['YEAR BUILT'].unique()"
   ]
  },
  {
   "cell_type": "code",
   "execution_count": 14,
   "id": "31661c70",
   "metadata": {},
   "outputs": [
    {
     "name": "stdout",
     "output_type": "stream",
     "text": [
      "<class 'pandas.core.frame.DataFrame'>\n",
      "Int64Index: 81797 entries, 0 to 84547\n",
      "Data columns (total 19 columns):\n",
      " #   Column                          Non-Null Count  Dtype         \n",
      "---  ------                          --------------  -----         \n",
      " 0   BOROUGH                         81797 non-null  int64         \n",
      " 1   NEIGHBORHOOD                    81797 non-null  object        \n",
      " 2   BUILDING CLASS CATEGORY         81797 non-null  object        \n",
      " 3   TAX CLASS AT PRESENT            81797 non-null  object        \n",
      " 4   BLOCK                           81797 non-null  int64         \n",
      " 5   BUILDING CLASS AT PRESENT       81797 non-null  object        \n",
      " 6   RESIDENTIAL UNITS               81797 non-null  int64         \n",
      " 7   COMMERCIAL UNITS                81797 non-null  int64         \n",
      " 8   TOTAL UNITS                     81797 non-null  int64         \n",
      " 9   LAND SQUARE FEET                81797 non-null  int64         \n",
      " 10  GROSS SQUARE FEET               81797 non-null  int64         \n",
      " 11  YEAR BUILT                      81797 non-null  int64         \n",
      " 12  TAX CLASS AT TIME OF SALE       81797 non-null  int64         \n",
      " 13  BUILDING CLASS AT TIME OF SALE  81797 non-null  object        \n",
      " 14  SALE PRICE                      81797 non-null  int64         \n",
      " 15  SALE DATE                       81797 non-null  datetime64[ns]\n",
      " 16  BOROUGH NAME                    81797 non-null  object        \n",
      " 17  SALE YEAR                       81797 non-null  int64         \n",
      " 18  SALE MONTH                      81797 non-null  int64         \n",
      "dtypes: datetime64[ns](1), int64(12), object(6)\n",
      "memory usage: 12.5+ MB\n"
     ]
    }
   ],
   "source": [
    "cleaned_data.info()"
   ]
  },
  {
   "cell_type": "markdown",
   "id": "c5df789c",
   "metadata": {},
   "source": [
    "### 1. Mean"
   ]
  },
  {
   "cell_type": "markdown",
   "id": "409469b7",
   "metadata": {},
   "source": [
    "**Pertanyaan:**\n",
    "Berapa rata-rata harga properti di daerah Manhattan pada tahun 2017?\n",
    "\n",
    "**Hipotesis:**\n",
    "Rata-rata harga properti di daerah Manhattan pada tahun 2017 sekitar $2,000,000.00."
   ]
  },
  {
   "cell_type": "code",
   "execution_count": 15,
   "id": "aa0f7e63",
   "metadata": {},
   "outputs": [
    {
     "name": "stdout",
     "output_type": "stream",
     "text": [
      "Rata-rata harga properti di NYC dari tahun ke tahun = $2694135.70\n"
     ]
    }
   ],
   "source": [
    "condition = (cleaned_data['BOROUGH NAME'] == 'Manhattan') & (cleaned_data['SALE YEAR'] == 2017)\n",
    "\n",
    "manhattan_2017_data = cleaned_data[condition]\n",
    "\n",
    "average_property_price = manhattan_2017_data['SALE PRICE'].mean()\n",
    "print(\"Rata-rata harga properti di NYC dari tahun ke tahun = ${:.2f}\".format(average_property_price))"
   ]
  },
  {
   "cell_type": "markdown",
   "id": "c79e5d77",
   "metadata": {},
   "source": [
    "**Kesimpulan:**\n",
    "\n",
    "Rata-rata harga properti di daerah Manhtaan pada tahun 2017 sekitar $2,694,135.70\n"
   ]
  },
  {
   "cell_type": "markdown",
   "id": "b36bb61a",
   "metadata": {},
   "source": [
    "### 2. Median\n",
    "\n",
    "**Pertanyaan:**\n",
    "Berapa median dari harga properti di New York City, dan bagaimana perbedaannya di berbagai wilayah?\n",
    "\n",
    "**Hipotesis:**\n",
    "Median dari harga properti di Manhattan lebih tinggi daripada di wilayah lain."
   ]
  },
  {
   "cell_type": "code",
   "execution_count": 17,
   "id": "8a3539fb",
   "metadata": {},
   "outputs": [
    {
     "name": "stdout",
     "output_type": "stream",
     "text": [
      "Median harga properti secara keseluruhan = $432000.0\n"
     ]
    }
   ],
   "source": [
    "overall_median_sale_price = cleaned_data['SALE PRICE'].median()\n",
    "print(\"Median harga properti secara keseluruhan = ${:.1f}\".format(overall_median_sale_price))"
   ]
  },
  {
   "cell_type": "code",
   "execution_count": 18,
   "id": "067d83a8",
   "metadata": {},
   "outputs": [
    {
     "name": "stdout",
     "output_type": "stream",
     "text": [
      "Median harga properti berdasarkan Wilayah (Borough):\n",
      "    BOROUGH NAME  SALE PRICE\n",
      "0          Bronx    280000.0\n",
      "1       Brooklyn    445000.0\n",
      "2      Manhattan    890000.0\n",
      "3         Queens    320000.0\n",
      "4  Staten Island    366000.0\n"
     ]
    }
   ],
   "source": [
    "median_sale_price_borough = cleaned_data.groupby('BOROUGH NAME')['SALE PRICE'].median().reset_index()\n",
    "print(\"Median harga properti berdasarkan Wilayah (Borough):\")\n",
    "print(median_sale_price_borough)"
   ]
  },
  {
   "cell_type": "markdown",
   "id": "fa9c6abf",
   "metadata": {},
   "source": [
    "**Kesimpulan:**\n",
    "\n",
    "* Median dari harga properti di New York City sekitar $432,000.0.\n",
    "* Median dari harga properti di wilayah Manhattan adalah yang paling besar dan perbedaannya cukup signifikan dibandingkan dengan daerah lain.\n"
   ]
  },
  {
   "cell_type": "markdown",
   "id": "898af353",
   "metadata": {},
   "source": [
    "### 3. Modus"
   ]
  },
  {
   "cell_type": "markdown",
   "id": "18602cd2",
   "metadata": {},
   "source": [
    "**Pertanyaan:**\n",
    "Wilayah mana yang paling banyak menjadi asal/tempat properti di New York City?\n",
    "\n",
    "**Hipotesis:**\n",
    "Bronx merupakan wilayah yang paling banyak menjadi asal/tempat properti di New York City."
   ]
  },
  {
   "cell_type": "code",
   "execution_count": 19,
   "id": "86094104",
   "metadata": {},
   "outputs": [
    {
     "name": "stdout",
     "output_type": "stream",
     "text": [
      "Modus dari Wilayah: Queens\n"
     ]
    }
   ],
   "source": [
    "mode_borough = cleaned_data['BOROUGH'].mode().iloc[0] \n",
    "\n",
    "if mode_borough == 1:\n",
    "    mode_borough = 'Manhattan'\n",
    "elif mode_borough == 2:\n",
    "    mode_borough = 'Bronx'\n",
    "elif mode_borough == 3:\n",
    "    mode_borough = 'Brooklyn'\n",
    "elif mode_borough == 4:\n",
    "    mode_borough = 'Queens'\n",
    "elif mode_borough == 5:\n",
    "    mode_borough = 'Staten Island'\n",
    "else:\n",
    "    mode_borough = None\n",
    "\n",
    "print(\"Modus dari Wilayah:\", mode_borough)"
   ]
  },
  {
   "cell_type": "code",
   "execution_count": 20,
   "id": "90234736",
   "metadata": {},
   "outputs": [
    {
     "data": {
      "text/plain": [
       "4    26036\n",
       "3    23399\n",
       "1    17329\n",
       "5     8161\n",
       "2     6872\n",
       "Name: BOROUGH, dtype: int64"
      ]
     },
     "execution_count": 20,
     "metadata": {},
     "output_type": "execute_result"
    }
   ],
   "source": [
    "borough_counts = cleaned_data['BOROUGH'].value_counts()\n",
    "borough_counts"
   ]
  },
  {
   "cell_type": "markdown",
   "id": "022de916",
   "metadata": {},
   "source": [
    "**Kesimpulan:**\n",
    "\n",
    "* Queens merupakan wilayah yang paling banyak menjadi asal/tempat properti di New York City.\n",
    "* Dengan persentase, 26036 dari 81797 atau sekitar 25% dari total wilayah yang ada\n"
   ]
  },
  {
   "cell_type": "markdown",
   "id": "0f9e8d86",
   "metadata": {},
   "source": [
    "### 4. Range"
   ]
  },
  {
   "cell_type": "markdown",
   "id": "cc2d3149",
   "metadata": {},
   "source": [
    "**Pertanyaan:**\n",
    "Berapa range (jangkauan) harga properti di daerah Queens pada tahun 2016?\n",
    "\n",
    "**Hipotesis:**\n",
    "Range (jangkuan) harga properti di daerah Queens pada tahun 2016 sekitar $150,000,000.00."
   ]
  },
  {
   "cell_type": "code",
   "execution_count": 21,
   "id": "89cef7ac",
   "metadata": {},
   "outputs": [
    {
     "name": "stdout",
     "output_type": "stream",
     "text": [
      "Range (jangkauan) harga properti di daerah Queens (2016) = $257500000\n"
     ]
    }
   ],
   "source": [
    "condition = (cleaned_data['BOROUGH NAME'] == 'Queens') & (cleaned_data['SALE YEAR'] == 2016)\n",
    "\n",
    "queen_2016_data = cleaned_data[condition]\n",
    "\n",
    "sale_price_range = queen_2016_data['SALE PRICE'].max() - queen_2016_data['SALE PRICE'].min()\n",
    "print(\"Range (jangkauan) harga properti di daerah Queens (2016) = ${:.0f}\".format(sale_price_range))"
   ]
  },
  {
   "cell_type": "markdown",
   "id": "d509ba79",
   "metadata": {},
   "source": [
    "**Kesimpulan:**\n",
    "\n",
    "Range (jangkauan) harga properti di daerah Queens pada tahun 2016 sekitar $257,500,000\n"
   ]
  },
  {
   "cell_type": "markdown",
   "id": "b9a56c6c",
   "metadata": {},
   "source": [
    "### 5. Variance"
   ]
  },
  {
   "cell_type": "markdown",
   "id": "34c47877",
   "metadata": {},
   "source": [
    "**Pertanyaan:**\n",
    "Berapa varians dari ukuran properti (diukur dalam *gross square footage*) di New York City?\n",
    "\n",
    "**Hipotesis:**\n",
    "Varians dari ukuran properti (diukur dalam *gross square footage*) di New York City sekitar 750,000,000.00."
   ]
  },
  {
   "cell_type": "code",
   "execution_count": 28,
   "id": "74225ec8",
   "metadata": {},
   "outputs": [
    {
     "name": "stdout",
     "output_type": "stream",
     "text": [
      "Varians dari ukuran properti: 831282874.24 (dalam square feet)\n"
     ]
    }
   ],
   "source": [
    "variance_gross_square_feet = cleaned_data['GROSS SQUARE FEET'].var()\n",
    "print(\"Varians dari ukuran properti: {:.2f}\".format(variance_gross_square_feet), \"(dalam square feet)\")"
   ]
  },
  {
   "cell_type": "markdown",
   "id": "3620e82f",
   "metadata": {},
   "source": [
    "**Kesimpulan**:\n",
    "\n",
    "* Varians dari ukuran properti (diukur dalam *gross square footage*) di New York City sekitar 831,282,874.24 (dalam square feet)\n",
    "* Nilai varians yang vesar menandakan bahwa luas (kasar/kotor) dari properti-properti yang ada/dijual di NYC sangat beragam."
   ]
  },
  {
   "cell_type": "markdown",
   "id": "0beba304",
   "metadata": {},
   "source": [
    "### 6. Standar Deviation"
   ]
  },
  {
   "cell_type": "markdown",
   "id": "7585c432",
   "metadata": {},
   "source": [
    "**Pertanyaan:**\n",
    "Berapa standar deviasi dari umur properti (diukur dalam tahun sejak konstruksi) di New York City?\n",
    "\n",
    "**Hipotesis:**\n",
    "Standar deviasi dari umur properti (diukur dalam tahun sejak konstruksi) di New York City sekitar 500."
   ]
  },
  {
   "cell_type": "code",
   "execution_count": 31,
   "id": "f276ba6e",
   "metadata": {},
   "outputs": [
    {
     "name": "stdout",
     "output_type": "stream",
     "text": [
      "Standar Deviasi dari umur properti: 525.70\n",
      "1796.291599936428\n"
     ]
    }
   ],
   "source": [
    "std_dev_year_built = cleaned_data['YEAR BUILT'].std()\n",
    "print(\"Standar Deviasi dari umur properti: {:.2f}\".format(std_dev_year_built))\n",
    "print(cleaned_data['YEAR BUILT'].mean())"
   ]
  },
  {
   "cell_type": "markdown",
   "id": "5faa5435",
   "metadata": {},
   "source": [
    "**Kesimpulan**:\n",
    "\n",
    " * Standar deviasi dari umur properti (diukur dalam tahun sejak konstruksi) di New York City adalah 525.70.\n",
    " * Nilai standar deviasi  yang cukup besar menandakan bahwa umur properti (diukur dalam tahun sejak konstruksi) di New York City cukup beragam."
   ]
  },
  {
   "cell_type": "markdown",
   "id": "b6e98e11",
   "metadata": {},
   "source": [
    "### 7. Probability Distribution"
   ]
  },
  {
   "cell_type": "markdown",
   "id": "e07df813",
   "metadata": {},
   "source": [
    "**Pertanyaan:**\n",
    "Bagaimana distribusi probabilitas harga jual properti di Bronx?\n",
    "\n",
    "**Hipotesis:**\n",
    "Distribusi probabilitas harga jual di Bronx berdistribusi normal."
   ]
  },
  {
   "cell_type": "code",
   "execution_count": 24,
   "id": "d043dc43",
   "metadata": {},
   "outputs": [
    {
     "data": {
      "image/png": "[encoded data removed]",
      "text/plain": [
       "<Figure size 1000x600 with 1 Axes>"
      ]
     },
     "metadata": {},
     "output_type": "display_data"
    }
   ],
   "source": [
    "condition = (cleaned_data['BOROUGH NAME'] == 'Bronx') & (cleaned_data['SALE PRICE'] > 0)\n",
    "bronx_data = cleaned_data[condition]\n",
    "\n",
    "sale_prices = bronx_data['SALE PRICE']\n",
    "\n",
    "plt.figure(figsize=(10, 6))\n",
    "sns.histplot(sale_prices, bins=30, kde=True, color='skyblue', edgecolor='black')\n",
    "plt.title('Probability Distribution of Sale Prices in Bronx (Excluding $0)')\n",
    "plt.xlabel('Sale Price (in Dollars)')\n",
    "plt.ylabel('Probability Density')\n",
    "plt.grid(True)\n",
    "\n",
    "plt.show()"
   ]
  },
  {
   "cell_type": "markdown",
   "id": "d6fc1482",
   "metadata": {},
   "source": [
    "**Kesimpulan**:\n",
    "\n",
    "* Distribusi probabilitas harga properti di wilayah Bronx sangat miring ke kiri (*left-skewed*).\n",
    "* Hal ini dapat menandakan bahwa mayoritas harga  properti di Bronx terpusat di kategori bawah, yang berarti ada banyak properti dengan harga yang murah.\n"
   ]
  },
  {
   "cell_type": "markdown",
   "id": "9e4174f5",
   "metadata": {},
   "source": [
    "### 8. Hypothesis Testing + Confidence Intervals"
   ]
  },
  {
   "cell_type": "markdown",
   "id": "94662064",
   "metadata": {},
   "source": [
    "**Pertanyaan:**\n",
    "Apakah harga properti di wilayah Queens dan wilayah Brooklyn berbeda (secara signifikan) dan apakah kita dapat menyimpulkan bahwa properti di satu wilayah cenderung lebih mahal daripada yang lain?\n",
    "\n",
    "**Hipotesis Null (H0):**\n",
    "Tidak ada perbedaan yang signifikan dari rata-rata harga properti di wilayah Queens dan wilayah Brooklyn.\n",
    "\n",
    "(μ_Queens - μ_Brooklyn = 0).\n",
    "\n",
    "**Hipotesis Alternatif (H1):**\n",
    "Ada perbedaan yang signifikan dari rata-rata harga properti di wilayah Queens dan wilayah Brooklyn.\n",
    "\n",
    "(μ_Queens - μ_Brooklyn ≠ 0)."
   ]
  },
  {
   "cell_type": "code",
   "execution_count": 48,
   "id": "30ddc544",
   "metadata": {},
   "outputs": [],
   "source": [
    "queens_sale_prices = cleaned_data[cleaned_data['BOROUGH NAME'] == 'Queens']['SALE PRICE']\n",
    "brooklyn_sale_prices = cleaned_data[cleaned_data['BOROUGH NAME'] == 'Brooklyn']['SALE PRICE']"
   ]
  },
  {
   "cell_type": "code",
   "execution_count": 49,
   "id": "bd5f1e5c",
   "metadata": {},
   "outputs": [
    {
     "name": "stdout",
     "output_type": "stream",
     "text": [
      "T-statistic: -10.720575338743409\n",
      "P-value: 8.847495808784857e-27\n",
      "\n",
      "Kesimpulan:\n",
      "Hipotesis Null ditolak (Hipotesis Alternatif (H1) diterima).\n"
     ]
    }
   ],
   "source": [
    "# Uji t (karena tidak diketahui nilai STD dari populasi data)\n",
    "t_stat, p_value = stats.ttest_ind(queens_sale_prices, brooklyn_sale_prices, equal_var=False)\n",
    "\n",
    "# Mendefinisikan nilai alfa \n",
    "alpha = 0.01\n",
    "\n",
    "print(\"T-statistic:\", t_stat)\n",
    "print(\"P-value:\", p_value)\n",
    "print(\"\\nKesimpulan:\")\n",
    "\n",
    "\n",
    "if p_value < alpha:\n",
    "    print(\"Hipotesis Null ditolak (Hipotesis Alternatif (H1) diterima).\")\n",
    "else:\n",
    "    print(\"Gagal menolak Hipotesis Null (Hipotesis Null (H0) diterima).\")"
   ]
  },
  {
   "cell_type": "markdown",
   "id": "dcc5ef21",
   "metadata": {},
   "source": [
    "**Kesimpulan**:\n",
    "\n",
    "* Ada perbedaan yang signifikan dari rata-rata harga properti di wilayah Queens dan wilayah Brooklyn.\n",
    "* Confidence Intervals dari Hyphotesis Testing ini adalah 95% (100-alfa).\n",
    "* Hal ini berarti, saya 99% yakin bahwa hasil uji hipotesis ini dan ada kemungkinan 1% bahwa hasilnya tidak akurat (salah).\n"
   ]
  },
  {
   "cell_type": "markdown",
   "id": "4457b012",
   "metadata": {},
   "source": [
    "### Overall Analysis"
   ]
  },
  {
   "cell_type": "markdown",
   "id": "8e2a77a6",
   "metadata": {},
   "source": [
    "Pertama, rata-rata harga properti di Manhattan adalah yang tertinggi, sekitar 2,694,135.70 (US dollar). \n",
    "Akan tetapi, median harga properti di seluruh kota sekitar 432,000.0 (US dollar), hal ini menunjukkan adanya keragaman harga yang signifikan. \n",
    "\n",
    "Selain itu, properti di wilayah Manhattan memiliki median harga tertinggi, sementara Queens adalah wilayah dengan jumlah properti terbanyak. Selain itu, luas properti dan umur properti di kota NYC sangat bervariasi.\n",
    "\n",
    "Kemudian, distribusi harga properti di wilayah Bronx sangat miring ke kiri (*left-skewed*), menunjukkan mayoritas harga properti di Bronx terpusat di kategori bawah, yang berarti ada banyak properti dengan harga yang murah.\n",
    "\n",
    "Terakhir, perbedaan signifikan dalam rata-rata harga properti antara Queens dan Brooklyn mengindikasikan kemungkinan adanya perbedaan karakteristik dan permintaan properti di kedua wilayah ini."
   ]
  }
 ],
 "metadata": {
  "kernelspec": {
   "display_name": "Python 3 (ipykernel)",
   "language": "python",
   "name": "python3"
  },
  "language_info": {
   "codemirror_mode": {
    "name": "ipython",
    "version": 3
   },
   "file_extension": ".py",
   "mimetype": "text/x-python",
   "name": "python",
   "nbconvert_exporter": "python",
   "pygments_lexer": "ipython3",
   "version": "3.9.13"
  }
 },
 "nbformat": 4,
 "nbformat_minor": 5
}
