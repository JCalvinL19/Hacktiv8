{
 "cells": [
  {
   "cell_type": "markdown",
   "id": "b3cc9b47",
   "metadata": {},
   "source": [
    "### Nama: Jonathan Calvin Limawal\n",
    "### Kode Peserta: PYTN-KS16-019\n",
    "### Track: Data Science"
   ]
  },
  {
   "cell_type": "markdown",
   "id": "9bb218c8",
   "metadata": {},
   "source": [
    "## 1. Introduction"
   ]
  },
  {
   "cell_type": "markdown",
   "id": "6560acc6",
   "metadata": {},
   "source": [
    "Pada kesempatan kali ini, saya akan membuat 6 model klasifikasi untuk mengklasifikasikan atau memprediksi apakah klien telah berlangganan deposito berjangka (*Has the client subscribed a term deposit*?). Dataset yang digunakan diambil dari https://archive.ics.uci.edu/dataset/222/bank+marketing dan file dataset yang digunakan adalah 'bank-additional-full.csv'.\n",
    "\n",
    "Pada dataset ini, ada 20 kolom input (prediktor) dan 1 ada kolom output (target). Selain itu, jumlah data/row pada dataset ini sebanyak 41176 row/data.\n",
    "\n",
    "Pembuatan mode klasifiaksi ini memuat beberapa bagian/tahap utama:\n",
    "1. Introduction\n",
    "2. Dataset\n",
    "3. Libraries\n",
    "4. Data Cleaning\n",
    "5. Data Splitting\n",
    "6. Data Exploration (EDA)\n",
    "7. Data Preprocessing\n",
    "8. Feature Scaling\n",
    "9. Model Development, Training and Evaluation\n",
    "10. Algorithm Analysis"
   ]
  },
  {
   "cell_type": "markdown",
   "id": "227324ad",
   "metadata": {},
   "source": [
    "# 2. Libraries"
   ]
  },
  {
   "cell_type": "code",
   "execution_count": 1,
   "id": "f6677928",
   "metadata": {},
   "outputs": [],
   "source": [
    "import numpy as np\n",
    "import pandas as pd\n",
    "import matplotlib.pyplot as plt\n",
    "import seaborn as sns\n",
    "\n",
    "from scipy import stats\n",
    "from scipy.stats import f_oneway, chi2_contingency\n",
    "from scipy.special import boxcox\n",
    "\n",
    "from imblearn.over_sampling import RandomOverSampler\n",
    "from sklearn.model_selection import train_test_split, cross_val_score\n",
    "from sklearn.preprocessing import MinMaxScaler, LabelEncoder\n",
    "from sklearn.linear_model import LogisticRegression\n",
    "from sklearn.svm import SVC \n",
    "from sklearn.tree import DecisionTreeClassifier\n",
    "from sklearn.naive_bayes import GaussianNB \n",
    "from sklearn.neighbors import KNeighborsClassifier  \n",
    "from sklearn.ensemble import RandomForestClassifier \n",
    "from sklearn.metrics import confusion_matrix, accuracy_score, classification_report, precision_recall_fscore_support"
   ]
  },
  {
   "cell_type": "markdown",
   "id": "6ddef9d1",
   "metadata": {},
   "source": [
    "## 3. Dataset"
   ]
  },
  {
   "cell_type": "code",
   "execution_count": 2,
   "id": "c3efdcb9",
   "metadata": {},
   "outputs": [
    {
     "data": {
      "text/html": [
       "<div>\n",
       "<style scoped>\n",
       "    .dataframe tbody tr th:only-of-type {\n",
       "        vertical-align: middle;\n",
       "    }\n",
       "\n",
       "    .dataframe tbody tr th {\n",
       "        vertical-align: top;\n",
       "    }\n",
       "\n",
       "    .dataframe thead th {\n",
       "        text-align: right;\n",
       "    }\n",
       "</style>\n",
       "<table border=\"1\" class=\"dataframe\">\n",
       "  <thead>\n",
       "    <tr style=\"text-align: right;\">\n",
       "      <th></th>\n",
       "      <th>age</th>\n",
       "      <th>job</th>\n",
       "      <th>marital</th>\n",
       "      <th>education</th>\n",
       "      <th>default</th>\n",
       "      <th>housing</th>\n",
       "      <th>loan</th>\n",
       "      <th>contact</th>\n",
       "      <th>month</th>\n",
       "      <th>day_of_week</th>\n",
       "      <th>duration</th>\n",
       "      <th>campaign</th>\n",
       "      <th>pdays</th>\n",
       "      <th>previous</th>\n",
       "      <th>poutcome</th>\n",
       "      <th>emp.var.rate</th>\n",
       "      <th>cons.price.idx</th>\n",
       "      <th>cons.conf.idx</th>\n",
       "      <th>euribor3m</th>\n",
       "      <th>nr.employed</th>\n",
       "      <th>y</th>\n",
       "    </tr>\n",
       "  </thead>\n",
       "  <tbody>\n",
       "    <tr>\n",
       "      <th>0</th>\n",
       "      <td>56</td>\n",
       "      <td>housemaid</td>\n",
       "      <td>married</td>\n",
       "      <td>basic.4y</td>\n",
       "      <td>no</td>\n",
       "      <td>no</td>\n",
       "      <td>no</td>\n",
       "      <td>telephone</td>\n",
       "      <td>may</td>\n",
       "      <td>mon</td>\n",
       "      <td>261</td>\n",
       "      <td>1</td>\n",
       "      <td>999</td>\n",
       "      <td>0</td>\n",
       "      <td>nonexistent</td>\n",
       "      <td>1.1</td>\n",
       "      <td>93.994</td>\n",
       "      <td>-36.4</td>\n",
       "      <td>4.857</td>\n",
       "      <td>5191.0</td>\n",
       "      <td>no</td>\n",
       "    </tr>\n",
       "    <tr>\n",
       "      <th>1</th>\n",
       "      <td>57</td>\n",
       "      <td>services</td>\n",
       "      <td>married</td>\n",
       "      <td>high.school</td>\n",
       "      <td>unknown</td>\n",
       "      <td>no</td>\n",
       "      <td>no</td>\n",
       "      <td>telephone</td>\n",
       "      <td>may</td>\n",
       "      <td>mon</td>\n",
       "      <td>149</td>\n",
       "      <td>1</td>\n",
       "      <td>999</td>\n",
       "      <td>0</td>\n",
       "      <td>nonexistent</td>\n",
       "      <td>1.1</td>\n",
       "      <td>93.994</td>\n",
       "      <td>-36.4</td>\n",
       "      <td>4.857</td>\n",
       "      <td>5191.0</td>\n",
       "      <td>no</td>\n",
       "    </tr>\n",
       "    <tr>\n",
       "      <th>2</th>\n",
       "      <td>37</td>\n",
       "      <td>services</td>\n",
       "      <td>married</td>\n",
       "      <td>high.school</td>\n",
       "      <td>no</td>\n",
       "      <td>yes</td>\n",
       "      <td>no</td>\n",
       "      <td>telephone</td>\n",
       "      <td>may</td>\n",
       "      <td>mon</td>\n",
       "      <td>226</td>\n",
       "      <td>1</td>\n",
       "      <td>999</td>\n",
       "      <td>0</td>\n",
       "      <td>nonexistent</td>\n",
       "      <td>1.1</td>\n",
       "      <td>93.994</td>\n",
       "      <td>-36.4</td>\n",
       "      <td>4.857</td>\n",
       "      <td>5191.0</td>\n",
       "      <td>no</td>\n",
       "    </tr>\n",
       "    <tr>\n",
       "      <th>3</th>\n",
       "      <td>40</td>\n",
       "      <td>admin.</td>\n",
       "      <td>married</td>\n",
       "      <td>basic.6y</td>\n",
       "      <td>no</td>\n",
       "      <td>no</td>\n",
       "      <td>no</td>\n",
       "      <td>telephone</td>\n",
       "      <td>may</td>\n",
       "      <td>mon</td>\n",
       "      <td>151</td>\n",
       "      <td>1</td>\n",
       "      <td>999</td>\n",
       "      <td>0</td>\n",
       "      <td>nonexistent</td>\n",
       "      <td>1.1</td>\n",
       "      <td>93.994</td>\n",
       "      <td>-36.4</td>\n",
       "      <td>4.857</td>\n",
       "      <td>5191.0</td>\n",
       "      <td>no</td>\n",
       "    </tr>\n",
       "    <tr>\n",
       "      <th>4</th>\n",
       "      <td>56</td>\n",
       "      <td>services</td>\n",
       "      <td>married</td>\n",
       "      <td>high.school</td>\n",
       "      <td>no</td>\n",
       "      <td>no</td>\n",
       "      <td>yes</td>\n",
       "      <td>telephone</td>\n",
       "      <td>may</td>\n",
       "      <td>mon</td>\n",
       "      <td>307</td>\n",
       "      <td>1</td>\n",
       "      <td>999</td>\n",
       "      <td>0</td>\n",
       "      <td>nonexistent</td>\n",
       "      <td>1.1</td>\n",
       "      <td>93.994</td>\n",
       "      <td>-36.4</td>\n",
       "      <td>4.857</td>\n",
       "      <td>5191.0</td>\n",
       "      <td>no</td>\n",
       "    </tr>\n",
       "  </tbody>\n",
       "</table>\n",
       "</div>"
      ],
      "text/plain": [
       "   age        job  marital    education  default housing loan    contact  \\\n",
       "0   56  housemaid  married     basic.4y       no      no   no  telephone   \n",
       "1   57   services  married  high.school  unknown      no   no  telephone   \n",
       "2   37   services  married  high.school       no     yes   no  telephone   \n",
       "3   40     admin.  married     basic.6y       no      no   no  telephone   \n",
       "4   56   services  married  high.school       no      no  yes  telephone   \n",
       "\n",
       "  month day_of_week  duration  campaign  pdays  previous     poutcome  \\\n",
       "0   may         mon       261         1    999         0  nonexistent   \n",
       "1   may         mon       149         1    999         0  nonexistent   \n",
       "2   may         mon       226         1    999         0  nonexistent   \n",
       "3   may         mon       151         1    999         0  nonexistent   \n",
       "4   may         mon       307         1    999         0  nonexistent   \n",
       "\n",
       "   emp.var.rate  cons.price.idx  cons.conf.idx  euribor3m  nr.employed   y  \n",
       "0           1.1          93.994          -36.4      4.857       5191.0  no  \n",
       "1           1.1          93.994          -36.4      4.857       5191.0  no  \n",
       "2           1.1          93.994          -36.4      4.857       5191.0  no  \n",
       "3           1.1          93.994          -36.4      4.857       5191.0  no  \n",
       "4           1.1          93.994          -36.4      4.857       5191.0  no  "
      ]
     },
     "execution_count": 2,
     "metadata": {},
     "output_type": "execute_result"
    }
   ],
   "source": [
    "missing_values = ['n/a', 'na', \"--\", \"?\", \"NA\", 'n-a', 'NaN', ' ', ' - ']\n",
    "\n",
    "data = pd.read_csv('bank-additional-full.csv', sep=';',  na_values=missing_values)\n",
    "pd.set_option('display.max_columns', 25)\n",
    "data.head()"
   ]
  },
  {
   "cell_type": "code",
   "execution_count": 3,
   "id": "a5a525d4",
   "metadata": {},
   "outputs": [
    {
     "data": {
      "text/plain": [
       "(41188, 21)"
      ]
     },
     "execution_count": 3,
     "metadata": {},
     "output_type": "execute_result"
    }
   ],
   "source": [
    "data.shape"
   ]
  },
  {
   "cell_type": "code",
   "execution_count": 4,
   "id": "ee697d6a",
   "metadata": {},
   "outputs": [
    {
     "name": "stdout",
     "output_type": "stream",
     "text": [
      "<class 'pandas.core.frame.DataFrame'>\n",
      "RangeIndex: 41188 entries, 0 to 41187\n",
      "Data columns (total 21 columns):\n",
      " #   Column          Non-Null Count  Dtype  \n",
      "---  ------          --------------  -----  \n",
      " 0   age             41188 non-null  int64  \n",
      " 1   job             41188 non-null  object \n",
      " 2   marital         41188 non-null  object \n",
      " 3   education       41188 non-null  object \n",
      " 4   default         41188 non-null  object \n",
      " 5   housing         41188 non-null  object \n",
      " 6   loan            41188 non-null  object \n",
      " 7   contact         41188 non-null  object \n",
      " 8   month           41188 non-null  object \n",
      " 9   day_of_week     41188 non-null  object \n",
      " 10  duration        41188 non-null  int64  \n",
      " 11  campaign        41188 non-null  int64  \n",
      " 12  pdays           41188 non-null  int64  \n",
      " 13  previous        41188 non-null  int64  \n",
      " 14  poutcome        41188 non-null  object \n",
      " 15  emp.var.rate    41188 non-null  float64\n",
      " 16  cons.price.idx  41188 non-null  float64\n",
      " 17  cons.conf.idx   41188 non-null  float64\n",
      " 18  euribor3m       41188 non-null  float64\n",
      " 19  nr.employed     41188 non-null  float64\n",
      " 20  y               41188 non-null  object \n",
      "dtypes: float64(5), int64(5), object(11)\n",
      "memory usage: 6.6+ MB\n"
     ]
    }
   ],
   "source": [
    "data.info()"
   ]
  },
  {
   "cell_type": "markdown",
   "id": "e84ab8f7",
   "metadata": {},
   "source": [
    "## 4 .Data Cleaning"
   ]
  },
  {
   "cell_type": "code",
   "execution_count": 5,
   "id": "06929d33",
   "metadata": {},
   "outputs": [
    {
     "data": {
      "text/plain": [
       "age               0\n",
       "job               0\n",
       "marital           0\n",
       "education         0\n",
       "default           0\n",
       "housing           0\n",
       "loan              0\n",
       "contact           0\n",
       "month             0\n",
       "day_of_week       0\n",
       "duration          0\n",
       "campaign          0\n",
       "pdays             0\n",
       "previous          0\n",
       "poutcome          0\n",
       "emp.var.rate      0\n",
       "cons.price.idx    0\n",
       "cons.conf.idx     0\n",
       "euribor3m         0\n",
       "nr.employed       0\n",
       "y                 0\n",
       "dtype: int64"
      ]
     },
     "execution_count": 5,
     "metadata": {},
     "output_type": "execute_result"
    }
   ],
   "source": [
    "data.isna().sum()"
   ]
  },
  {
   "cell_type": "code",
   "execution_count": 6,
   "id": "d72c7c79",
   "metadata": {},
   "outputs": [
    {
     "data": {
      "text/plain": [
       "12"
      ]
     },
     "execution_count": 6,
     "metadata": {},
     "output_type": "execute_result"
    }
   ],
   "source": [
    "total_of_duplicate_data = sum(data.duplicated())\n",
    "total_of_duplicate_data"
   ]
  },
  {
   "cell_type": "code",
   "execution_count": 7,
   "id": "5c81ab40",
   "metadata": {},
   "outputs": [
    {
     "data": {
      "text/plain": [
       "0"
      ]
     },
     "execution_count": 7,
     "metadata": {},
     "output_type": "execute_result"
    }
   ],
   "source": [
    "cleaned_data = data.drop_duplicates()\n",
    "sum(cleaned_data.duplicated())"
   ]
  },
  {
   "cell_type": "code",
   "execution_count": 8,
   "id": "8a4b1a8e",
   "metadata": {
    "scrolled": true
   },
   "outputs": [
    {
     "data": {
      "text/plain": [
       "(41176, 21)"
      ]
     },
     "execution_count": 8,
     "metadata": {},
     "output_type": "execute_result"
    }
   ],
   "source": [
    "cleaned_data.shape"
   ]
  },
  {
   "cell_type": "markdown",
   "id": "6758c422",
   "metadata": {},
   "source": [
    "## 5. Data Splitting"
   ]
  },
  {
   "cell_type": "code",
   "execution_count": 9,
   "id": "415b4212",
   "metadata": {},
   "outputs": [
    {
     "name": "stdout",
     "output_type": "stream",
     "text": [
      "Training set size: (32940, 21)\n",
      "Test set size: (8236, 21)\n"
     ]
    }
   ],
   "source": [
    "train, test = train_test_split(cleaned_data, test_size=0.2, random_state=42)\n",
    "print(\"Training set size:\", train.shape)\n",
    "print(\"Test set size:\", test.shape)"
   ]
  },
  {
   "cell_type": "markdown",
   "id": "e6de6da3",
   "metadata": {},
   "source": [
    "## 6. Data Exploration (EDA)"
   ]
  },
  {
   "cell_type": "code",
   "execution_count": 10,
   "id": "8f8e9fdb",
   "metadata": {},
   "outputs": [
    {
     "data": {
      "text/plain": [
       "no         26107\n",
       "unknown     6830\n",
       "yes            3\n",
       "Name: default, dtype: int64"
      ]
     },
     "execution_count": 10,
     "metadata": {},
     "output_type": "execute_result"
    }
   ],
   "source": [
    "train['default'].value_counts()"
   ]
  },
  {
   "cell_type": "code",
   "execution_count": 11,
   "id": "c36630c4",
   "metadata": {},
   "outputs": [],
   "source": [
    "train = train[train['default'] != 'yes']\n",
    "test = test[test['default'] != 'yes']"
   ]
  },
  {
   "cell_type": "markdown",
   "id": "9182c7ca",
   "metadata": {},
   "source": [
    "### 6.1 Checking 'y' column distribution"
   ]
  },
  {
   "cell_type": "code",
   "execution_count": 12,
   "id": "7cbf4481",
   "metadata": {},
   "outputs": [
    {
     "data": {
      "text/plain": [
       "no     29269\n",
       "yes     3668\n",
       "Name: y, dtype: int64"
      ]
     },
     "execution_count": 12,
     "metadata": {},
     "output_type": "execute_result"
    }
   ],
   "source": [
    "train['y'].value_counts()"
   ]
  },
  {
   "cell_type": "code",
   "execution_count": 13,
   "id": "2ab77748",
   "metadata": {},
   "outputs": [
    {
     "data": {
      "image/png": "[encoded data removed]",
      "text/plain": [
       "<Figure size 600x400 with 1 Axes>"
      ]
     },
     "metadata": {},
     "output_type": "display_data"
    }
   ],
   "source": [
    "custom_palette = sns.color_palette([\"#ae2029\", \"#4166f5\"])\n",
    "plt.figure(figsize=(6, 4))\n",
    "sns.countplot(data=train, x='y', palette=custom_palette)\n",
    "plt.title(\"Distribution of 'y' in Training Data\")\n",
    "plt.xlabel(\"y (Has the client subscribed a term deposit?)\")\n",
    "plt.ylabel(\"Count\")\n",
    "plt.xticks(ticks=[0, 1], labels=['No', 'Yes'])\n",
    "plt.show()"
   ]
  },
  {
   "cell_type": "markdown",
   "id": "45c1848f",
   "metadata": {},
   "source": [
    "Dari grafik bar di atas, terlihat bahwa **data target kita *imbalanced***. Hal ini menandakan bahwa kita perlu melakukan **RandomOverSampling** nantinya sebelum Feature Scaling untuk mengatasi masalah data yang *imbalanced* ini."
   ]
  },
  {
   "cell_type": "markdown",
   "id": "b6f07fe9",
   "metadata": {},
   "source": [
    "### 6.2 Removing Outliers for age column"
   ]
  },
  {
   "cell_type": "code",
   "execution_count": 14,
   "id": "1f563efd",
   "metadata": {},
   "outputs": [
    {
     "data": {
      "image/png": "[encoded data removed]",
      "text/plain": [
       "<Figure size 600x400 with 1 Axes>"
      ]
     },
     "metadata": {},
     "output_type": "display_data"
    }
   ],
   "source": [
    "# melihat apakah terdapat outlier pada kolom age\n",
    "sns.set_style(\"whitegrid\")\n",
    "plt.figure(figsize=(6, 4))\n",
    "boxplot = sns.boxplot(data=train, x='age')\n",
    "boxplot.set_xticks(boxplot.get_xticks().tolist())\n",
    "boxplot.set_xticklabels(boxplot.get_xticklabels(), rotation=90, ha=\"right\")\n",
    "plt.xlabel('Age')\n",
    "plt.show()"
   ]
  },
  {
   "cell_type": "code",
   "execution_count": 15,
   "id": "1d5ab0a9",
   "metadata": {},
   "outputs": [
    {
     "name": "stdout",
     "output_type": "stream",
     "text": [
      "Bentuk Shape Lama:  (32937, 21)\n",
      "Bentuk Shape Baru:  (32557, 21)\n"
     ]
    }
   ],
   "source": [
    "print(\"Bentuk Shape Lama: \", train.shape)\n",
    "\n",
    "Q1 = train['age'].quantile(0.25)\n",
    "Q3 = train['age'].quantile(0.75)\n",
    "IQR = Q3 - Q1\n",
    "lower_bound = Q1 - 1.5 * IQR\n",
    "upper_bound = Q3 + 1.5 * IQR\n",
    "train = train[(train['age'] >= lower_bound) & (train['age'] <= upper_bound)]\n",
    "\n",
    "print(\"Bentuk Shape Baru: \", train.shape)"
   ]
  },
  {
   "cell_type": "code",
   "execution_count": 16,
   "id": "36b475a7",
   "metadata": {
    "scrolled": false
   },
   "outputs": [
    {
     "data": {
      "image/png": "[encoded data removed]",
      "text/plain": [
       "<Figure size 600x400 with 1 Axes>"
      ]
     },
     "metadata": {},
     "output_type": "display_data"
    }
   ],
   "source": [
    "# melihat apakah terdapat outlier pada kolom age\n",
    "sns.set_style(\"whitegrid\")\n",
    "plt.figure(figsize=(6, 4))\n",
    "boxplot = sns.boxplot(data=train, x='age')\n",
    "boxplot.set_xticks(boxplot.get_xticks().tolist())\n",
    "boxplot.set_xticklabels(boxplot.get_xticklabels(), rotation=90, ha=\"right\") \n",
    "boxplot.set(xticklabels=[])\n",
    "plt.xlabel('Age')\n",
    "plt.show()"
   ]
  },
  {
   "cell_type": "markdown",
   "id": "ea521ed9",
   "metadata": {},
   "source": [
    "## 7. Data Preprocessing"
   ]
  },
  {
   "cell_type": "markdown",
   "id": "92cbda02",
   "metadata": {},
   "source": [
    "### 7.1 Feature Engineering on day_of_week and month column"
   ]
  },
  {
   "cell_type": "code",
   "execution_count": 17,
   "id": "8a15bc62",
   "metadata": {},
   "outputs": [
    {
     "data": {
      "text/plain": [
       "10"
      ]
     },
     "execution_count": 17,
     "metadata": {},
     "output_type": "execute_result"
    }
   ],
   "source": [
    "train['month'].nunique()"
   ]
  },
  {
   "cell_type": "code",
   "execution_count": 18,
   "id": "e28c58eb",
   "metadata": {},
   "outputs": [],
   "source": [
    "month_to_quarter_mapping = {\n",
    "    'mar': '1st Quarter',\n",
    "    'apr': '2nd Quarter',\n",
    "    'may': '2nd Quarter',\n",
    "    'jun': '2nd Quarter',\n",
    "    'jul': '3rd Quarter',\n",
    "    'aug': '3rd Quarter',\n",
    "    'sep': '3rd Quarter',\n",
    "    'oct': '4th Quarter',\n",
    "    'nov': '4th Quarter',\n",
    "    'dec': '4th Quarter'\n",
    "}\n",
    "\n",
    "# Create a new column 'quarter' based on the mapping\n",
    "train['quarter'] = train['month'].map(month_to_quarter_mapping)\n",
    "test['quarter'] = test['month'].map(month_to_quarter_mapping)\n",
    "\n",
    "train['time'] = train['day_of_week'] + '_' + train['quarter']\n",
    "test['time'] = test['day_of_week'] + '_' + test['quarter']\n",
    "\n",
    "train = train.drop(columns=['month', 'day_of_week', 'quarter'])\n",
    "test = test.drop(columns=['month', 'day_of_week', 'quarter'])"
   ]
  },
  {
   "cell_type": "code",
   "execution_count": 19,
   "id": "5027218c",
   "metadata": {},
   "outputs": [
    {
     "name": "stdout",
     "output_type": "stream",
     "text": [
      "Training set size: (32557, 20)\n",
      "Test set size: (8236, 20)\n"
     ]
    }
   ],
   "source": [
    "print(\"Training set size:\", train.shape)\n",
    "print(\"Test set size:\", test.shape)"
   ]
  },
  {
   "cell_type": "code",
   "execution_count": 20,
   "id": "c19062ce",
   "metadata": {
    "scrolled": true
   },
   "outputs": [
    {
     "data": {
      "text/html": [
       "<div>\n",
       "<style scoped>\n",
       "    .dataframe tbody tr th:only-of-type {\n",
       "        vertical-align: middle;\n",
       "    }\n",
       "\n",
       "    .dataframe tbody tr th {\n",
       "        vertical-align: top;\n",
       "    }\n",
       "\n",
       "    .dataframe thead th {\n",
       "        text-align: right;\n",
       "    }\n",
       "</style>\n",
       "<table border=\"1\" class=\"dataframe\">\n",
       "  <thead>\n",
       "    <tr style=\"text-align: right;\">\n",
       "      <th></th>\n",
       "      <th>age</th>\n",
       "      <th>job</th>\n",
       "      <th>marital</th>\n",
       "      <th>education</th>\n",
       "      <th>default</th>\n",
       "      <th>housing</th>\n",
       "      <th>loan</th>\n",
       "      <th>contact</th>\n",
       "      <th>duration</th>\n",
       "      <th>campaign</th>\n",
       "      <th>pdays</th>\n",
       "      <th>previous</th>\n",
       "      <th>poutcome</th>\n",
       "      <th>emp.var.rate</th>\n",
       "      <th>cons.price.idx</th>\n",
       "      <th>cons.conf.idx</th>\n",
       "      <th>euribor3m</th>\n",
       "      <th>nr.employed</th>\n",
       "      <th>y</th>\n",
       "      <th>time</th>\n",
       "    </tr>\n",
       "  </thead>\n",
       "  <tbody>\n",
       "    <tr>\n",
       "      <th>12348</th>\n",
       "      <td>29</td>\n",
       "      <td>entrepreneur</td>\n",
       "      <td>married</td>\n",
       "      <td>basic.6y</td>\n",
       "      <td>no</td>\n",
       "      <td>yes</td>\n",
       "      <td>yes</td>\n",
       "      <td>telephone</td>\n",
       "      <td>286</td>\n",
       "      <td>3</td>\n",
       "      <td>999</td>\n",
       "      <td>0</td>\n",
       "      <td>nonexistent</td>\n",
       "      <td>1.4</td>\n",
       "      <td>93.918</td>\n",
       "      <td>-42.7</td>\n",
       "      <td>4.959</td>\n",
       "      <td>5228.1</td>\n",
       "      <td>no</td>\n",
       "      <td>fri_3rd Quarter</td>\n",
       "    </tr>\n",
       "    <tr>\n",
       "      <th>8565</th>\n",
       "      <td>50</td>\n",
       "      <td>admin.</td>\n",
       "      <td>single</td>\n",
       "      <td>university.degree</td>\n",
       "      <td>no</td>\n",
       "      <td>no</td>\n",
       "      <td>no</td>\n",
       "      <td>telephone</td>\n",
       "      <td>178</td>\n",
       "      <td>6</td>\n",
       "      <td>999</td>\n",
       "      <td>0</td>\n",
       "      <td>nonexistent</td>\n",
       "      <td>1.4</td>\n",
       "      <td>94.465</td>\n",
       "      <td>-41.8</td>\n",
       "      <td>4.864</td>\n",
       "      <td>5228.1</td>\n",
       "      <td>no</td>\n",
       "      <td>wed_2nd Quarter</td>\n",
       "    </tr>\n",
       "    <tr>\n",
       "      <th>21424</th>\n",
       "      <td>29</td>\n",
       "      <td>admin.</td>\n",
       "      <td>single</td>\n",
       "      <td>university.degree</td>\n",
       "      <td>no</td>\n",
       "      <td>no</td>\n",
       "      <td>no</td>\n",
       "      <td>cellular</td>\n",
       "      <td>103</td>\n",
       "      <td>4</td>\n",
       "      <td>999</td>\n",
       "      <td>0</td>\n",
       "      <td>nonexistent</td>\n",
       "      <td>1.4</td>\n",
       "      <td>93.444</td>\n",
       "      <td>-36.1</td>\n",
       "      <td>4.963</td>\n",
       "      <td>5228.1</td>\n",
       "      <td>no</td>\n",
       "      <td>tue_3rd Quarter</td>\n",
       "    </tr>\n",
       "    <tr>\n",
       "      <th>3316</th>\n",
       "      <td>35</td>\n",
       "      <td>admin.</td>\n",
       "      <td>single</td>\n",
       "      <td>university.degree</td>\n",
       "      <td>no</td>\n",
       "      <td>no</td>\n",
       "      <td>no</td>\n",
       "      <td>telephone</td>\n",
       "      <td>135</td>\n",
       "      <td>1</td>\n",
       "      <td>999</td>\n",
       "      <td>0</td>\n",
       "      <td>nonexistent</td>\n",
       "      <td>1.1</td>\n",
       "      <td>93.994</td>\n",
       "      <td>-36.4</td>\n",
       "      <td>4.860</td>\n",
       "      <td>5191.0</td>\n",
       "      <td>no</td>\n",
       "      <td>thu_2nd Quarter</td>\n",
       "    </tr>\n",
       "    <tr>\n",
       "      <th>33246</th>\n",
       "      <td>40</td>\n",
       "      <td>blue-collar</td>\n",
       "      <td>single</td>\n",
       "      <td>high.school</td>\n",
       "      <td>unknown</td>\n",
       "      <td>no</td>\n",
       "      <td>no</td>\n",
       "      <td>cellular</td>\n",
       "      <td>418</td>\n",
       "      <td>1</td>\n",
       "      <td>999</td>\n",
       "      <td>0</td>\n",
       "      <td>nonexistent</td>\n",
       "      <td>-1.8</td>\n",
       "      <td>92.893</td>\n",
       "      <td>-46.2</td>\n",
       "      <td>1.291</td>\n",
       "      <td>5099.1</td>\n",
       "      <td>no</td>\n",
       "      <td>tue_2nd Quarter</td>\n",
       "    </tr>\n",
       "  </tbody>\n",
       "</table>\n",
       "</div>"
      ],
      "text/plain": [
       "       age           job  marital          education  default housing loan  \\\n",
       "12348   29  entrepreneur  married           basic.6y       no     yes  yes   \n",
       "8565    50        admin.   single  university.degree       no      no   no   \n",
       "21424   29        admin.   single  university.degree       no      no   no   \n",
       "3316    35        admin.   single  university.degree       no      no   no   \n",
       "33246   40   blue-collar   single        high.school  unknown      no   no   \n",
       "\n",
       "         contact  duration  campaign  pdays  previous     poutcome  \\\n",
       "12348  telephone       286         3    999         0  nonexistent   \n",
       "8565   telephone       178         6    999         0  nonexistent   \n",
       "21424   cellular       103         4    999         0  nonexistent   \n",
       "3316   telephone       135         1    999         0  nonexistent   \n",
       "33246   cellular       418         1    999         0  nonexistent   \n",
       "\n",
       "       emp.var.rate  cons.price.idx  cons.conf.idx  euribor3m  nr.employed  \\\n",
       "12348           1.4          93.918          -42.7      4.959       5228.1   \n",
       "8565            1.4          94.465          -41.8      4.864       5228.1   \n",
       "21424           1.4          93.444          -36.1      4.963       5228.1   \n",
       "3316            1.1          93.994          -36.4      4.860       5191.0   \n",
       "33246          -1.8          92.893          -46.2      1.291       5099.1   \n",
       "\n",
       "        y             time  \n",
       "12348  no  fri_3rd Quarter  \n",
       "8565   no  wed_2nd Quarter  \n",
       "21424  no  tue_3rd Quarter  \n",
       "3316   no  thu_2nd Quarter  \n",
       "33246  no  tue_2nd Quarter  "
      ]
     },
     "execution_count": 20,
     "metadata": {},
     "output_type": "execute_result"
    }
   ],
   "source": [
    "train.head()"
   ]
  },
  {
   "cell_type": "markdown",
   "id": "77c45a3c",
   "metadata": {},
   "source": [
    "### 7.2 Feature Selection/Reduction"
   ]
  },
  {
   "cell_type": "markdown",
   "id": "395ed966",
   "metadata": {},
   "source": [
    "### 7.2.1 Chi-Square Test for categorical columns"
   ]
  },
  {
   "cell_type": "markdown",
   "id": "62f1afca",
   "metadata": {},
   "source": [
    "H<sub>0</sub>  = Tidak ada korelasi yang signifikan antara kolom 'kategorikal' dan 'y'.\n",
    "\n",
    "H<sub>1</sub> = Ada korelasi yang signifikan antara kolom 'kategorikal' dan 'y'.\n",
    "\n",
    "&alpha; = 0.05\n",
    "\n",
    "Tes = Chi-Square Test"
   ]
  },
  {
   "cell_type": "code",
   "execution_count": 21,
   "id": "88d019ad",
   "metadata": {
    "scrolled": true
   },
   "outputs": [
    {
     "name": "stdout",
     "output_type": "stream",
     "text": [
      "The p-value for job is \t: 3.2981710930690984e-107\n",
      "The p-value for marital is \t: 8.075533271157534e-31\n",
      "The p-value for education is \t: 3.1763017106883045e-34\n",
      "The p-value for default is \t: 2.565523910692466e-66\n",
      "The p-value for housing is \t: 0.10563817852313573\n",
      "The p-value for loan is \t: 0.39089336917862677\n",
      "The p-value for contact is \t: 3.681169058523178e-138\n",
      "The p-value for poutcome is \t: 0.0\n",
      "The p-value for time is \t: 2.0491226182355196e-185\n"
     ]
    }
   ],
   "source": [
    "cat_column = ['job', 'marital', 'education', 'default', 'housing', 'loan', 'contact', 'poutcome' , 'time']\n",
    "\n",
    "y = 'y'\n",
    "\n",
    "p_values = {}\n",
    "\n",
    "for column in cat_column:\n",
    "    contingency_table = pd.crosstab(train[column], train[y])\n",
    "    chi2, p, dof, expected = chi2_contingency(contingency_table)\n",
    "    p_values[column] = p\n",
    "\n",
    "for column, p_value in p_values.items():\n",
    "    print(f\"The p-value for {column} is \\t: {p_value}\")\n"
   ]
  },
  {
   "cell_type": "markdown",
   "id": "1f9d56e8",
   "metadata": {},
   "source": [
    "Untuk hasil Chi-Square test pada kolom-kolom di atas, jika p-value > 0.05 (alfa),  hal ini menandakan bahwa tidak ada perbedaan yang signifikan antara kolom tersebut dan 'price'. Oleh karena itu, kita dapat men-drop kolom **'housing'** dan **'loan'**."
   ]
  },
  {
   "cell_type": "code",
   "execution_count": 22,
   "id": "127a4cb9",
   "metadata": {},
   "outputs": [],
   "source": [
    "train = train.drop(columns=['housing', 'loan'])\n",
    "test = test.drop(columns=['housing', 'loan'])"
   ]
  },
  {
   "cell_type": "code",
   "execution_count": 23,
   "id": "a63541ab",
   "metadata": {},
   "outputs": [
    {
     "name": "stdout",
     "output_type": "stream",
     "text": [
      "Training set size: (32557, 18)\n",
      "Test set size: (8236, 18)\n"
     ]
    }
   ],
   "source": [
    "print(\"Training set size:\", train.shape)\n",
    "print(\"Test set size:\", test.shape)"
   ]
  },
  {
   "cell_type": "markdown",
   "id": "d272dc04",
   "metadata": {},
   "source": [
    "### 7.2.2 ANOVA for numerical columns"
   ]
  },
  {
   "cell_type": "code",
   "execution_count": 24,
   "id": "f650e275",
   "metadata": {
    "scrolled": true
   },
   "outputs": [
    {
     "name": "stdout",
     "output_type": "stream",
     "text": [
      "ANOVA for age:\n",
      "F-value: 8.161232685240103\n",
      "P-value: 0.004282237471906078\n",
      "\n",
      "ANOVA for duration:\n",
      "F-value: 6701.495018019499\n",
      "P-value: 0.0\n",
      "\n",
      "ANOVA for campaign:\n",
      "F-value: 132.17154195861892\n",
      "P-value: 1.5719567872987735e-30\n",
      "\n",
      "ANOVA for pdays:\n",
      "F-value: 3662.4874472598126\n",
      "P-value: 0.0\n",
      "\n",
      "ANOVA for previous:\n",
      "F-value: 1652.4624013353907\n",
      "P-value: 0.0\n",
      "\n",
      "ANOVA for emp.var.rate:\n",
      "F-value: 2969.133308757554\n",
      "P-value: 0.0\n",
      "\n",
      "ANOVA for cons.price.idx:\n",
      "F-value: 575.9709495394485\n",
      "P-value: 3.530215968404121e-126\n",
      "\n",
      "ANOVA for cons.conf.idx:\n",
      "F-value: 72.92448120459815\n",
      "P-value: 1.4046948322174026e-17\n",
      "\n",
      "ANOVA for euribor3m:\n",
      "F-value: 3170.6394604265374\n",
      "P-value: 0.0\n",
      "\n",
      "ANOVA for nr.employed:\n",
      "F-value: 4410.072577248814\n",
      "P-value: 0.0\n",
      "\n"
     ]
    }
   ],
   "source": [
    "num_columns = ['age', 'duration', 'campaign', 'pdays', 'previous', 'emp.var.rate', 'cons.price.idx', 'cons.conf.idx', 'euribor3m', 'nr.employed']\n",
    "\n",
    "results = {}\n",
    "\n",
    "for column in num_columns:\n",
    "    groups = [group[column] for name, group in train.groupby('y')]\n",
    "    f_val, p_val = f_oneway(*groups)\n",
    "    results[column] = (f_val, p_val)\n",
    "\n",
    "for column, (f_val, p_val) in results.items():\n",
    "    print(f'ANOVA for {column}:')\n",
    "    print('F-value:', f_val)\n",
    "    print('P-value:', p_val)\n",
    "    print()"
   ]
  },
  {
   "cell_type": "markdown",
   "id": "a7bbf023",
   "metadata": {},
   "source": [
    "### 7.2.3 Final Columns"
   ]
  },
  {
   "cell_type": "code",
   "execution_count": 25,
   "id": "4104a011",
   "metadata": {},
   "outputs": [
    {
     "name": "stdout",
     "output_type": "stream",
     "text": [
      "Training set size: (32557, 18)\n",
      "Test set size: (8236, 18)\n"
     ]
    }
   ],
   "source": [
    "print(\"Training set size:\", train.shape)\n",
    "print(\"Test set size:\", test.shape)"
   ]
  },
  {
   "cell_type": "code",
   "execution_count": 26,
   "id": "07b3070a",
   "metadata": {},
   "outputs": [
    {
     "data": {
      "text/html": [
       "<div>\n",
       "<style scoped>\n",
       "    .dataframe tbody tr th:only-of-type {\n",
       "        vertical-align: middle;\n",
       "    }\n",
       "\n",
       "    .dataframe tbody tr th {\n",
       "        vertical-align: top;\n",
       "    }\n",
       "\n",
       "    .dataframe thead th {\n",
       "        text-align: right;\n",
       "    }\n",
       "</style>\n",
       "<table border=\"1\" class=\"dataframe\">\n",
       "  <thead>\n",
       "    <tr style=\"text-align: right;\">\n",
       "      <th></th>\n",
       "      <th>age</th>\n",
       "      <th>job</th>\n",
       "      <th>marital</th>\n",
       "      <th>education</th>\n",
       "      <th>default</th>\n",
       "      <th>contact</th>\n",
       "      <th>duration</th>\n",
       "      <th>campaign</th>\n",
       "      <th>pdays</th>\n",
       "      <th>previous</th>\n",
       "      <th>poutcome</th>\n",
       "      <th>emp.var.rate</th>\n",
       "      <th>cons.price.idx</th>\n",
       "      <th>cons.conf.idx</th>\n",
       "      <th>euribor3m</th>\n",
       "      <th>nr.employed</th>\n",
       "      <th>y</th>\n",
       "      <th>time</th>\n",
       "    </tr>\n",
       "  </thead>\n",
       "  <tbody>\n",
       "    <tr>\n",
       "      <th>12348</th>\n",
       "      <td>29</td>\n",
       "      <td>entrepreneur</td>\n",
       "      <td>married</td>\n",
       "      <td>basic.6y</td>\n",
       "      <td>no</td>\n",
       "      <td>telephone</td>\n",
       "      <td>286</td>\n",
       "      <td>3</td>\n",
       "      <td>999</td>\n",
       "      <td>0</td>\n",
       "      <td>nonexistent</td>\n",
       "      <td>1.4</td>\n",
       "      <td>93.918</td>\n",
       "      <td>-42.7</td>\n",
       "      <td>4.959</td>\n",
       "      <td>5228.1</td>\n",
       "      <td>no</td>\n",
       "      <td>fri_3rd Quarter</td>\n",
       "    </tr>\n",
       "    <tr>\n",
       "      <th>8565</th>\n",
       "      <td>50</td>\n",
       "      <td>admin.</td>\n",
       "      <td>single</td>\n",
       "      <td>university.degree</td>\n",
       "      <td>no</td>\n",
       "      <td>telephone</td>\n",
       "      <td>178</td>\n",
       "      <td>6</td>\n",
       "      <td>999</td>\n",
       "      <td>0</td>\n",
       "      <td>nonexistent</td>\n",
       "      <td>1.4</td>\n",
       "      <td>94.465</td>\n",
       "      <td>-41.8</td>\n",
       "      <td>4.864</td>\n",
       "      <td>5228.1</td>\n",
       "      <td>no</td>\n",
       "      <td>wed_2nd Quarter</td>\n",
       "    </tr>\n",
       "    <tr>\n",
       "      <th>21424</th>\n",
       "      <td>29</td>\n",
       "      <td>admin.</td>\n",
       "      <td>single</td>\n",
       "      <td>university.degree</td>\n",
       "      <td>no</td>\n",
       "      <td>cellular</td>\n",
       "      <td>103</td>\n",
       "      <td>4</td>\n",
       "      <td>999</td>\n",
       "      <td>0</td>\n",
       "      <td>nonexistent</td>\n",
       "      <td>1.4</td>\n",
       "      <td>93.444</td>\n",
       "      <td>-36.1</td>\n",
       "      <td>4.963</td>\n",
       "      <td>5228.1</td>\n",
       "      <td>no</td>\n",
       "      <td>tue_3rd Quarter</td>\n",
       "    </tr>\n",
       "    <tr>\n",
       "      <th>3316</th>\n",
       "      <td>35</td>\n",
       "      <td>admin.</td>\n",
       "      <td>single</td>\n",
       "      <td>university.degree</td>\n",
       "      <td>no</td>\n",
       "      <td>telephone</td>\n",
       "      <td>135</td>\n",
       "      <td>1</td>\n",
       "      <td>999</td>\n",
       "      <td>0</td>\n",
       "      <td>nonexistent</td>\n",
       "      <td>1.1</td>\n",
       "      <td>93.994</td>\n",
       "      <td>-36.4</td>\n",
       "      <td>4.860</td>\n",
       "      <td>5191.0</td>\n",
       "      <td>no</td>\n",
       "      <td>thu_2nd Quarter</td>\n",
       "    </tr>\n",
       "    <tr>\n",
       "      <th>33246</th>\n",
       "      <td>40</td>\n",
       "      <td>blue-collar</td>\n",
       "      <td>single</td>\n",
       "      <td>high.school</td>\n",
       "      <td>unknown</td>\n",
       "      <td>cellular</td>\n",
       "      <td>418</td>\n",
       "      <td>1</td>\n",
       "      <td>999</td>\n",
       "      <td>0</td>\n",
       "      <td>nonexistent</td>\n",
       "      <td>-1.8</td>\n",
       "      <td>92.893</td>\n",
       "      <td>-46.2</td>\n",
       "      <td>1.291</td>\n",
       "      <td>5099.1</td>\n",
       "      <td>no</td>\n",
       "      <td>tue_2nd Quarter</td>\n",
       "    </tr>\n",
       "  </tbody>\n",
       "</table>\n",
       "</div>"
      ],
      "text/plain": [
       "       age           job  marital          education  default    contact  \\\n",
       "12348   29  entrepreneur  married           basic.6y       no  telephone   \n",
       "8565    50        admin.   single  university.degree       no  telephone   \n",
       "21424   29        admin.   single  university.degree       no   cellular   \n",
       "3316    35        admin.   single  university.degree       no  telephone   \n",
       "33246   40   blue-collar   single        high.school  unknown   cellular   \n",
       "\n",
       "       duration  campaign  pdays  previous     poutcome  emp.var.rate  \\\n",
       "12348       286         3    999         0  nonexistent           1.4   \n",
       "8565        178         6    999         0  nonexistent           1.4   \n",
       "21424       103         4    999         0  nonexistent           1.4   \n",
       "3316        135         1    999         0  nonexistent           1.1   \n",
       "33246       418         1    999         0  nonexistent          -1.8   \n",
       "\n",
       "       cons.price.idx  cons.conf.idx  euribor3m  nr.employed   y  \\\n",
       "12348          93.918          -42.7      4.959       5228.1  no   \n",
       "8565           94.465          -41.8      4.864       5228.1  no   \n",
       "21424          93.444          -36.1      4.963       5228.1  no   \n",
       "3316           93.994          -36.4      4.860       5191.0  no   \n",
       "33246          92.893          -46.2      1.291       5099.1  no   \n",
       "\n",
       "                  time  \n",
       "12348  fri_3rd Quarter  \n",
       "8565   wed_2nd Quarter  \n",
       "21424  tue_3rd Quarter  \n",
       "3316   thu_2nd Quarter  \n",
       "33246  tue_2nd Quarter  "
      ]
     },
     "execution_count": 26,
     "metadata": {},
     "output_type": "execute_result"
    }
   ],
   "source": [
    "train.head()"
   ]
  },
  {
   "cell_type": "markdown",
   "id": "359ac896",
   "metadata": {},
   "source": [
    "### 7.4 One-Hot Encoding"
   ]
  },
  {
   "cell_type": "code",
   "execution_count": 27,
   "id": "0ce773da",
   "metadata": {},
   "outputs": [],
   "source": [
    "label_encoder = LabelEncoder()\n",
    "\n",
    "train['y'] = label_encoder.fit_transform(train['y'])\n",
    "test['y'] = label_encoder.transform(test['y'])"
   ]
  },
  {
   "cell_type": "code",
   "execution_count": 28,
   "id": "7e3f6078",
   "metadata": {},
   "outputs": [
    {
     "name": "stdout",
     "output_type": "stream",
     "text": [
      "Class Label to Encoding Mapping:\n",
      "no: 0\n",
      "yes: 1\n"
     ]
    }
   ],
   "source": [
    "class_labels = label_encoder.classes_\n",
    "class_encodings = label_encoder.transform(class_labels)\n",
    "\n",
    "# Create a dictionary to map class labels to their numerical encodings\n",
    "label_encoding_dict = dict(zip(class_labels, class_encodings))\n",
    "\n",
    "print(\"Class Label to Encoding Mapping:\")\n",
    "for label, encoding in label_encoding_dict.items():\n",
    "    print(f\"{label}: {encoding}\")"
   ]
  },
  {
   "cell_type": "code",
   "execution_count": 29,
   "id": "88fff39a",
   "metadata": {},
   "outputs": [
    {
     "name": "stdout",
     "output_type": "stream",
     "text": [
      "Training set size: (32557, 18)\n",
      "Test set size: (8236, 18)\n"
     ]
    }
   ],
   "source": [
    "print(\"Training set size:\", train.shape)\n",
    "print(\"Test set size:\", test.shape)"
   ]
  },
  {
   "cell_type": "code",
   "execution_count": 32,
   "id": "5224314f",
   "metadata": {},
   "outputs": [],
   "source": [
    "cat_column = ['job', 'marital', 'education', 'default', 'contact', 'poutcome' , 'time']\n",
    "\n",
    "train = pd.get_dummies(train, columns=cat_column, \n",
    "                              prefix=cat_column)\n",
    "\n",
    "test = pd.get_dummies(test, columns=cat_column, \n",
    "                              prefix=cat_column)"
   ]
  },
  {
   "cell_type": "code",
   "execution_count": 33,
   "id": "1ba0e4e4",
   "metadata": {},
   "outputs": [
    {
     "name": "stdout",
     "output_type": "stream",
     "text": [
      "Training set size: (32557, 62)\n",
      "Test set size: (8236, 62)\n"
     ]
    }
   ],
   "source": [
    "print(\"Training set size:\", train.shape)\n",
    "print(\"Test set size:\", test.shape)"
   ]
  },
  {
   "cell_type": "code",
   "execution_count": 34,
   "id": "e92d61cf",
   "metadata": {},
   "outputs": [],
   "source": [
    "X_train = train.drop('y', axis=1) \n",
    "y_train = train['y']\n",
    "\n",
    "X_test = test.drop('y', axis=1) \n",
    "y_test = test['y']"
   ]
  },
  {
   "cell_type": "markdown",
   "id": "8271e480",
   "metadata": {},
   "source": [
    "### 7.5 Resample the Data"
   ]
  },
  {
   "cell_type": "code",
   "execution_count": 35,
   "id": "21bf1513",
   "metadata": {},
   "outputs": [],
   "source": [
    "X_train,y_train=RandomOverSampler().fit_resample(X_train,y_train)"
   ]
  },
  {
   "cell_type": "markdown",
   "id": "8ba68dae",
   "metadata": {},
   "source": [
    "## 8. Feature Scaling"
   ]
  },
  {
   "cell_type": "code",
   "execution_count": 36,
   "id": "cfb76b50",
   "metadata": {},
   "outputs": [],
   "source": [
    "scaler = MinMaxScaler()\n",
    "\n",
    "num_columns = ['age', 'duration', 'campaign', 'pdays', 'previous', 'emp.var.rate', 'cons.price.idx', 'cons.conf.idx', 'euribor3m', 'nr.employed']\n",
    "\n",
    "X_train[num_columns] = scaler.fit_transform(X_train[num_columns])\n",
    "X_test[num_columns] = scaler.transform(X_test[num_columns])"
   ]
  },
  {
   "cell_type": "markdown",
   "id": "02718de2",
   "metadata": {},
   "source": [
    "## 9. Model Development, Training and Evaluation"
   ]
  },
  {
   "cell_type": "markdown",
   "id": "2abd211f",
   "metadata": {},
   "source": [
    "### 9.1 Logistic Regression"
   ]
  },
  {
   "cell_type": "code",
   "execution_count": 37,
   "id": "7a0e6ea4",
   "metadata": {},
   "outputs": [],
   "source": [
    "m1 = 'Logistic Regression'\n",
    "lr = LogisticRegression(max_iter=1000)\n",
    "\n",
    "model = lr.fit(X_train, y_train)\n",
    "lr_predict = lr.predict(X_test)"
   ]
  },
  {
   "cell_type": "code",
   "execution_count": 38,
   "id": "94ad5cca",
   "metadata": {},
   "outputs": [
    {
     "data": {
      "image/png": "[encoded data removed]",
      "text/plain": [
       "<Figure size 600x400 with 2 Axes>"
      ]
     },
     "metadata": {},
     "output_type": "display_data"
    }
   ],
   "source": [
    "cm = confusion_matrix(y_test, lr_predict)\n",
    "\n",
    "plt.figure(figsize=(6, 4))\n",
    "sns.heatmap(cm, annot=True, fmt='d', cmap='Blues', xticklabels=['No', 'Yes'], yticklabels=['No', 'Yes'])\n",
    "plt.xlabel('Predicted')\n",
    "plt.ylabel('Actual')\n",
    "plt.title(f'Confusion Matrix for {m1}')\n",
    "plt.show()"
   ]
  },
  {
   "cell_type": "code",
   "execution_count": 39,
   "id": "eb1daffa",
   "metadata": {},
   "outputs": [
    {
     "name": "stdout",
     "output_type": "stream",
     "text": [
      "Accuracy of Logistic Regression: 85.53909664885867 \n",
      "\n",
      "              precision    recall  f1-score   support\n",
      "\n",
      "           0       0.98      0.86      0.91      7265\n",
      "           1       0.44      0.86      0.58       971\n",
      "\n",
      "    accuracy                           0.86      8236\n",
      "   macro avg       0.71      0.86      0.75      8236\n",
      "weighted avg       0.92      0.86      0.87      8236\n",
      "\n"
     ]
    }
   ],
   "source": [
    "lr_acc_score = accuracy_score(y_test, lr_predict)\n",
    "print(\"Accuracy of Logistic Regression:\",lr_acc_score*100,'\\n')\n",
    "\n",
    "print(classification_report(y_test,lr_predict))"
   ]
  },
  {
   "cell_type": "markdown",
   "id": "f6eaff34",
   "metadata": {},
   "source": [
    "### 9.2 K-Nearest Neighbors (KNN)"
   ]
  },
  {
   "cell_type": "code",
   "execution_count": 40,
   "id": "f9692ac1",
   "metadata": {},
   "outputs": [
    {
     "name": "stdout",
     "output_type": "stream",
     "text": [
      "Optimal k value: 1\n"
     ]
    }
   ],
   "source": [
    "from sklearn.model_selection import cross_val_score\n",
    "\n",
    "k_values = [1, 3, 5, 7, 9, 11, 13, 15]\n",
    "\n",
    "cv_scores = []\n",
    "\n",
    "for k in k_values:\n",
    "    knn = KNeighborsClassifier(n_neighbors=k)\n",
    "    scores = cross_val_score(knn, X_train, y_train, cv=5, scoring='accuracy')\n",
    "    cv_scores.append(scores.mean())\n",
    "\n",
    "optimal_k = k_values[cv_scores.index(max(cv_scores))]\n",
    "\n",
    "print(\"Optimal k value:\", optimal_k)"
   ]
  },
  {
   "cell_type": "code",
   "execution_count": 41,
   "id": "f13dd8bc",
   "metadata": {},
   "outputs": [],
   "source": [
    "knn = KNeighborsClassifier(n_neighbors=optimal_k)\n",
    "knn.fit(X_train, y_train)\n",
    "knn_predict = knn.predict(X_test)"
   ]
  },
  {
   "cell_type": "code",
   "execution_count": 42,
   "id": "690e9b17",
   "metadata": {},
   "outputs": [
    {
     "data": {
      "image/png": "[encoded data removed]",
      "text/plain": [
       "<Figure size 600x400 with 2 Axes>"
      ]
     },
     "metadata": {},
     "output_type": "display_data"
    }
   ],
   "source": [
    "knn_cm = confusion_matrix(y_test, knn_predict)\n",
    "\n",
    "plt.figure(figsize=(6, 4))\n",
    "sns.heatmap(knn_cm, annot=True, fmt='d', cmap='Blues', xticklabels=['No', 'Yes'], yticklabels=['No', 'Yes'])\n",
    "plt.xlabel('Predicted')\n",
    "plt.ylabel('Actual')\n",
    "plt.title('Confusion Matrix for K-Nearest Neighbors')\n",
    "plt.show()"
   ]
  },
  {
   "cell_type": "code",
   "execution_count": 43,
   "id": "a55e471a",
   "metadata": {},
   "outputs": [
    {
     "name": "stdout",
     "output_type": "stream",
     "text": [
      "Accuracy of K-Nearest Neighbors: 82.83147158814958 \n",
      "\n",
      "              precision    recall  f1-score   support\n",
      "\n",
      "           0       0.94      0.86      0.90      7265\n",
      "           1       0.36      0.59      0.45       971\n",
      "\n",
      "    accuracy                           0.83      8236\n",
      "   macro avg       0.65      0.73      0.67      8236\n",
      "weighted avg       0.87      0.83      0.85      8236\n",
      "\n"
     ]
    }
   ],
   "source": [
    "knn_acc_score = accuracy_score(y_test, knn_predict)\n",
    "print(\"Accuracy of K-Nearest Neighbors:\", knn_acc_score * 100, '\\n')\n",
    "\n",
    "print(classification_report(y_test, knn_predict))"
   ]
  },
  {
   "cell_type": "markdown",
   "id": "cee672e8",
   "metadata": {},
   "source": [
    "### 9.3 Support Vector Machine (SVM)"
   ]
  },
  {
   "cell_type": "code",
   "execution_count": 44,
   "id": "a9fab930",
   "metadata": {},
   "outputs": [],
   "source": [
    "svm = SVC(kernel='linear')\n",
    "svm.fit(X_train, y_train)\n",
    "svm_predict = svm.predict(X_test)"
   ]
  },
  {
   "cell_type": "code",
   "execution_count": 45,
   "id": "e94c0631",
   "metadata": {},
   "outputs": [
    {
     "data": {
      "image/png": "[encoded data removed]",
      "text/plain": [
       "<Figure size 600x400 with 2 Axes>"
      ]
     },
     "metadata": {},
     "output_type": "display_data"
    }
   ],
   "source": [
    "svm_cm = confusion_matrix(y_test, svm_predict)\n",
    "\n",
    "plt.figure(figsize=(6, 4))\n",
    "sns.heatmap(svm_cm, annot=True, fmt='d', cmap='Blues', xticklabels=['No', 'Yes'], yticklabels=['No', 'Yes'])\n",
    "plt.xlabel('Predicted')\n",
    "plt.ylabel('Actual')\n",
    "plt.title('Confusion Matrix for SVM')\n",
    "plt.show()"
   ]
  },
  {
   "cell_type": "code",
   "execution_count": 46,
   "id": "8d33ba8f",
   "metadata": {},
   "outputs": [
    {
     "name": "stdout",
     "output_type": "stream",
     "text": [
      "Accuracy of SVM: 84.60417678484701 \n",
      "\n",
      "              precision    recall  f1-score   support\n",
      "\n",
      "           0       0.98      0.84      0.91      7265\n",
      "           1       0.43      0.89      0.58       971\n",
      "\n",
      "    accuracy                           0.85      8236\n",
      "   macro avg       0.70      0.86      0.74      8236\n",
      "weighted avg       0.92      0.85      0.87      8236\n",
      "\n"
     ]
    }
   ],
   "source": [
    "svm_acc_score = accuracy_score(y_test, svm_predict)\n",
    "print(\"Accuracy of SVM:\", svm_acc_score * 100, '\\n')\n",
    "\n",
    "print(classification_report(y_test, svm_predict))"
   ]
  },
  {
   "cell_type": "markdown",
   "id": "b9f2b525",
   "metadata": {},
   "source": [
    "### 9.4 Decision Tree"
   ]
  },
  {
   "cell_type": "code",
   "execution_count": 47,
   "id": "5891580c",
   "metadata": {},
   "outputs": [],
   "source": [
    "decision_tree = DecisionTreeClassifier()\n",
    "decision_tree.fit(X_train, y_train)\n",
    "dt_predict = decision_tree.predict(X_test)"
   ]
  },
  {
   "cell_type": "code",
   "execution_count": 48,
   "id": "68bf68af",
   "metadata": {},
   "outputs": [
    {
     "data": {
      "image/png": "[encoded data removed]",
      "text/plain": [
       "<Figure size 600x400 with 2 Axes>"
      ]
     },
     "metadata": {},
     "output_type": "display_data"
    }
   ],
   "source": [
    "dt_cm = confusion_matrix(y_test, dt_predict)\n",
    "\n",
    "plt.figure(figsize=(6, 4))\n",
    "sns.heatmap(dt_cm, annot=True, fmt='d', cmap='Blues', xticklabels=['No', 'Yes'], yticklabels=['No', 'Yes'])\n",
    "plt.xlabel('Predicted')\n",
    "plt.ylabel('Actual')\n",
    "plt.title('Confusion Matrix for Decision Tree')\n",
    "plt.show()"
   ]
  },
  {
   "cell_type": "code",
   "execution_count": 49,
   "id": "8f2aaecd",
   "metadata": {},
   "outputs": [
    {
     "name": "stdout",
     "output_type": "stream",
     "text": [
      "Accuracy of Decision Tree: 89.10879067508499 \n",
      "\n",
      "              precision    recall  f1-score   support\n",
      "\n",
      "           0       0.93      0.94      0.94      7265\n",
      "           1       0.54      0.50      0.52       971\n",
      "\n",
      "    accuracy                           0.89      8236\n",
      "   macro avg       0.74      0.72      0.73      8236\n",
      "weighted avg       0.89      0.89      0.89      8236\n",
      "\n"
     ]
    }
   ],
   "source": [
    "dt_acc_score = accuracy_score(y_test, dt_predict)\n",
    "print(\"Accuracy of Decision Tree:\", dt_acc_score * 100, '\\n')\n",
    "\n",
    "print(classification_report(y_test, dt_predict))"
   ]
  },
  {
   "cell_type": "markdown",
   "id": "06b1140e",
   "metadata": {},
   "source": [
    "### 9.5 Random Forest"
   ]
  },
  {
   "cell_type": "code",
   "execution_count": 50,
   "id": "7cb08331",
   "metadata": {},
   "outputs": [],
   "source": [
    "random_forest = RandomForestClassifier(n_estimators=100)\n",
    "random_forest.fit(X_train, y_train)\n",
    "rf_predict = random_forest.predict(X_test)"
   ]
  },
  {
   "cell_type": "code",
   "execution_count": 51,
   "id": "128d3890",
   "metadata": {},
   "outputs": [
    {
     "data": {
      "image/png": "[encoded data removed]",
      "text/plain": [
       "<Figure size 600x400 with 2 Axes>"
      ]
     },
     "metadata": {},
     "output_type": "display_data"
    }
   ],
   "source": [
    "rf_cm = confusion_matrix(y_test, rf_predict)\n",
    "\n",
    "plt.figure(figsize=(6, 4))\n",
    "sns.heatmap(rf_cm, annot=True, fmt='d', cmap='Blues', xticklabels=['No', 'Yes'], yticklabels=['No', 'Yes'])\n",
    "plt.xlabel('Predicted')\n",
    "plt.ylabel('Actual')\n",
    "plt.title('Confusion Matrix for Random Forest')\n",
    "plt.show()"
   ]
  },
  {
   "cell_type": "code",
   "execution_count": 52,
   "id": "a650d477",
   "metadata": {},
   "outputs": [
    {
     "name": "stdout",
     "output_type": "stream",
     "text": [
      "Accuracy of Random Forest: 90.61437591063624 \n",
      "\n",
      "              precision    recall  f1-score   support\n",
      "\n",
      "           0       0.95      0.95      0.95      7265\n",
      "           1       0.60      0.59      0.60       971\n",
      "\n",
      "    accuracy                           0.91      8236\n",
      "   macro avg       0.77      0.77      0.77      8236\n",
      "weighted avg       0.91      0.91      0.91      8236\n",
      "\n"
     ]
    }
   ],
   "source": [
    "rf_acc_score = accuracy_score(y_test, rf_predict)\n",
    "print(\"Accuracy of Random Forest:\", rf_acc_score * 100, '\\n')\n",
    "\n",
    "print(classification_report(y_test, rf_predict))"
   ]
  },
  {
   "cell_type": "markdown",
   "id": "a3833dae",
   "metadata": {},
   "source": [
    "### 9.6 Naive-Bayes"
   ]
  },
  {
   "cell_type": "code",
   "execution_count": 53,
   "id": "68dabfb1",
   "metadata": {},
   "outputs": [],
   "source": [
    "gnb = GaussianNB()\n",
    "gnb.fit(X_train, y_train)\n",
    "gnb_predict = gnb.predict(X_test)"
   ]
  },
  {
   "cell_type": "code",
   "execution_count": 54,
   "id": "69062e16",
   "metadata": {},
   "outputs": [
    {
     "data": {
      "image/png": "[encoded data removed]",
      "text/plain": [
       "<Figure size 600x400 with 2 Axes>"
      ]
     },
     "metadata": {},
     "output_type": "display_data"
    }
   ],
   "source": [
    "gnb_cm = confusion_matrix(y_test, gnb_predict)\n",
    "\n",
    "plt.figure(figsize=(6, 4))\n",
    "sns.heatmap(gnb_cm, annot=True, fmt='d', cmap='Blues', xticklabels=['No', 'Yes'], yticklabels=['No', 'Yes'])\n",
    "plt.xlabel('Predicted')\n",
    "plt.ylabel('Actual')\n",
    "plt.title('Confusion Matrix for Gaussian Naive Bayes')\n",
    "plt.show()"
   ]
  },
  {
   "cell_type": "code",
   "execution_count": 55,
   "id": "ee8ff729",
   "metadata": {},
   "outputs": [
    {
     "name": "stdout",
     "output_type": "stream",
     "text": [
      "Accuracy of Gaussian Naive Bayes: 85.78193297717338 \n",
      "\n",
      "              precision    recall  f1-score   support\n",
      "\n",
      "           0       0.93      0.91      0.92      7265\n",
      "           1       0.41      0.49      0.45       971\n",
      "\n",
      "    accuracy                           0.86      8236\n",
      "   macro avg       0.67      0.70      0.68      8236\n",
      "weighted avg       0.87      0.86      0.86      8236\n",
      "\n"
     ]
    }
   ],
   "source": [
    "gnb_acc_score = accuracy_score(y_test, gnb_predict)\n",
    "print(\"Accuracy of Gaussian Naive Bayes:\", gnb_acc_score * 100, '\\n')\n",
    "\n",
    "print(classification_report(y_test, gnb_predict))"
   ]
  },
  {
   "cell_type": "markdown",
   "id": "e49082e1",
   "metadata": {},
   "source": [
    "## 10. Algorithm Analysis"
   ]
  },
  {
   "cell_type": "markdown",
   "id": "b21fa538",
   "metadata": {},
   "source": [
    "Dari hasil *training* dan evaluasi berbagai model/algoritma klasifikasi yang ada, terlihat bahwa model/algortima **Random Forest** memiliki kinerja terbaik di antara model/algoritma yang lain. Model ini memiliki akurasi tertinggi dan skor F1 yang baik dan cukup *reasonable* untuk kelas 1 (yes).\n",
    "\n",
    "Oleh karena itu, saya memilihi model/algoritma **Random Forest** yang paling sesuai untuk mengklasifikasikan atau memprediksi apakah klien telah berlangganan deposito berjangka (*Has the client subscribed a term deposit*).\n",
    "\n",
    "Untuk meningkatkan akurasi dan skor F1 dari model yang ada, diperlukan data yang cukup *balanced*, khususnya pada data 'y' (target), atau dapat diterapkan algoritma penanganan ketidakseimbangan kelas (*class imbalance handling algorithms*) yang lainnya untuk menangani masalah *imbalanced data*."
   ]
  }
 ],
 "metadata": {
  "kernelspec": {
   "display_name": "Python 3 (ipykernel)",
   "language": "python",
   "name": "python3"
  },
  "language_info": {
   "codemirror_mode": {
    "name": "ipython",
    "version": 3
   },
   "file_extension": ".py",
   "mimetype": "text/x-python",
   "name": "python",
   "nbconvert_exporter": "python",
   "pygments_lexer": "ipython3",
   "version": "3.9.13"
  }
 },
 "nbformat": 4,
 "nbformat_minor": 5
}
